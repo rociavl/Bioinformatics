{
  "nbformat": 4,
  "nbformat_minor": 0,
  "metadata": {
    "colab": {
      "provenance": [],
      "mount_file_id": "14heF6ocIqxZ1Gd9txOvehFV8A8nZCWdO",
      "authorship_tag": "ABX9TyPDMfuYwXIVwv1nzwO62J33"
    },
    "kernelspec": {
      "name": "python3",
      "display_name": "Python 3"
    },
    "language_info": {
      "name": "python"
    }
  },
  "cells": [
    {
      "cell_type": "code",
      "execution_count": 6,
      "metadata": {
        "colab": {
          "base_uri": "https://localhost:8080/"
        },
        "id": "lghqSP2NLnI7",
        "outputId": "251515e1-954c-40a3-94a5-86373de74003"
      },
      "outputs": [
        {
          "output_type": "stream",
          "name": "stdout",
          "text": [
            "0\t13\t21\t22\n",
            "13\t0\t12\t13\n",
            "21\t12\t0\t13\n",
            "22\t13\t13\t0\n"
          ]
        }
      ],
      "source": [
        "import networkx as nx\n",
        "import numpy as np\n",
        "\n",
        "# Define the edges from the provided notation\n",
        "edges = [\n",
        "    (0, 4, 11),\n",
        "    (1, 4, 2),\n",
        "    (2, 5, 6),\n",
        "    (3, 5, 7),\n",
        "    (4, 0, 11),\n",
        "    (4, 1, 2),\n",
        "    (4, 5, 4),\n",
        "    (5, 4, 4),\n",
        "    (5, 3, 7),\n",
        "    (5, 2, 6),\n",
        "]\n",
        "\n",
        "# Create a directed graph\n",
        "G = nx.DiGraph()\n",
        "\n",
        "# Add edges to the graph\n",
        "for a, b, c in edges:\n",
        "    G.add_edge(a, b, weight=c)\n",
        "\n",
        "def create_matrix(N, G):\n",
        "    matrix_distance = np.zeros((N, N), dtype=int)  # Initialize the matrix with zeros\n",
        "\n",
        "    for i in range(N):\n",
        "        for j in range(N):\n",
        "            if i == j:\n",
        "                matrix_distance[i][j] = 0  # Distance from a node to itself is 0\n",
        "            else:\n",
        "                try:\n",
        "                    # Use Dijkstra's algorithm to find the shortest path from node i to j\n",
        "                    matrix_distance[i][j] = nx.dijkstra_path_length(G, i, j, weight='weight')\n",
        "                except nx.NetworkXNoPath:\n",
        "                    matrix_distance[i][j] = float('inf')  # If no path exists, set to infinity\n",
        "\n",
        "    return matrix_distance\n",
        "\n",
        "# Call the function to create the distance matrix\n",
        "N = 4\n",
        "matrix = create_matrix(N, G)\n",
        "\n",
        "# Print matrix in the desired format\n",
        "for row in matrix:\n",
        "    print('\\t'.join(map(str, row)))\n"
      ]
    },
    {
      "cell_type": "code",
      "source": [
        "def load_graph_from_file(file_path):\n",
        "    G = nx.DiGraph()  # Directed graph\n",
        "    with open(file_path, 'r') as f:\n",
        "        for line in f:\n",
        "            # Parse each line in the format \"node1->node2:weight\"\n",
        "            line = line.strip()\n",
        "            if '->' in line and ':' in line:\n",
        "                parts = line.split('->')\n",
        "                node1 = int(parts[0])  # First node (source)\n",
        "                node2, weight = map(int, parts[1].split(':'))  # Second node (target) and weight\n",
        "                # Add edge to graph with weight\n",
        "                G.add_edge(node1, node2, weight=weight)\n",
        "    return G\n",
        "\n",
        "# Load graph from file\n",
        "file_path = '/content/drive/MyDrive/Bioinformatics /BIO IV/edges_bio.txt'  # Path to the file\n",
        "G = load_graph_from_file(file_path)\n",
        "\n",
        "# Determine the number of nodes (you can set N manually or use max node in the graph)\n",
        "N = 32  # Assuming nodes are indexed starting from 0\n",
        "\n",
        "# Create the distance matrix\n",
        "matrix = create_matrix(N, G)\n",
        "\n",
        "# Print matrix in the desired format\n",
        "for row in matrix:\n",
        "    print('\\t'.join(map(str, row)))"
      ],
      "metadata": {
        "colab": {
          "base_uri": "https://localhost:8080/"
        },
        "id": "habDtm1rKkBa",
        "outputId": "f8a02c85-8eb4-4ae8-cbea-c92e762e885c"
      },
      "execution_count": 7,
      "outputs": [
        {
          "output_type": "stream",
          "name": "stdout",
          "text": [
            "0\t165\t179\t116\t148\t104\t26\t84\t22\t41\t124\t181\t39\t75\t46\t105\t156\t141\t52\t64\t109\t87\t128\t128\t80\t46\t69\t81\t77\t140\t103\t169\n",
            "165\t0\t40\t79\t47\t77\t159\t239\t177\t150\t71\t42\t194\t230\t141\t90\t35\t296\t207\t131\t264\t94\t57\t283\t103\t201\t120\t236\t232\t295\t258\t30\n",
            "179\t40\t0\t93\t61\t91\t173\t253\t191\t164\t85\t18\t208\t244\t155\t104\t49\t310\t221\t145\t278\t108\t71\t297\t117\t215\t134\t250\t246\t309\t272\t26\n",
            "116\t79\t93\t0\t62\t28\t110\t190\t128\t101\t38\t95\t145\t181\t92\t41\t70\t247\t158\t82\t215\t45\t42\t234\t54\t152\t71\t187\t183\t246\t209\t83\n",
            "148\t47\t61\t62\t0\t60\t142\t222\t160\t133\t54\t63\t177\t213\t124\t73\t38\t279\t190\t114\t247\t77\t40\t266\t86\t184\t103\t219\t215\t278\t241\t51\n",
            "104\t77\t91\t28\t60\t0\t98\t178\t116\t89\t36\t93\t133\t169\t80\t29\t68\t235\t146\t70\t203\t33\t40\t222\t42\t140\t59\t175\t171\t234\t197\t81\n",
            "26\t159\t173\t110\t142\t98\t0\t100\t38\t35\t118\t175\t55\t91\t40\t99\t150\t157\t68\t58\t125\t81\t122\t144\t74\t62\t63\t97\t93\t156\t119\t163\n",
            "84\t239\t253\t190\t222\t178\t100\t0\t78\t115\t198\t255\t75\t39\t120\t179\t230\t83\t44\t138\t51\t161\t202\t70\t154\t64\t143\t23\t31\t82\t45\t243\n",
            "22\t177\t191\t128\t160\t116\t38\t78\t0\t53\t136\t193\t33\t69\t58\t117\t168\t135\t46\t76\t103\t99\t140\t122\t92\t40\t81\t75\t71\t134\t97\t181\n",
            "41\t150\t164\t101\t133\t89\t35\t115\t53\t0\t109\t166\t70\t106\t31\t90\t141\t172\t83\t49\t140\t72\t113\t159\t65\t77\t54\t112\t108\t171\t134\t154\n",
            "124\t71\t85\t38\t54\t36\t118\t198\t136\t109\t0\t87\t153\t189\t100\t49\t62\t255\t166\t90\t223\t53\t34\t242\t62\t160\t79\t195\t191\t254\t217\t75\n",
            "181\t42\t18\t95\t63\t93\t175\t255\t193\t166\t87\t0\t210\t246\t157\t106\t51\t312\t223\t147\t280\t110\t73\t299\t119\t217\t136\t252\t248\t311\t274\t28\n",
            "39\t194\t208\t145\t177\t133\t55\t75\t33\t70\t153\t210\t0\t66\t75\t134\t185\t132\t43\t93\t100\t116\t157\t119\t109\t37\t98\t72\t68\t131\t94\t198\n",
            "75\t230\t244\t181\t213\t169\t91\t39\t69\t106\t189\t246\t66\t0\t111\t170\t221\t96\t35\t129\t64\t152\t193\t83\t145\t55\t134\t36\t32\t95\t58\t234\n",
            "46\t141\t155\t92\t124\t80\t40\t120\t58\t31\t100\t157\t75\t111\t0\t81\t132\t177\t88\t40\t145\t63\t104\t164\t56\t82\t45\t117\t113\t176\t139\t145\n",
            "105\t90\t104\t41\t73\t29\t99\t179\t117\t90\t49\t106\t134\t170\t81\t0\t81\t236\t147\t71\t204\t34\t53\t223\t43\t141\t60\t176\t172\t235\t198\t94\n",
            "156\t35\t49\t70\t38\t68\t150\t230\t168\t141\t62\t51\t185\t221\t132\t81\t0\t287\t198\t122\t255\t85\t48\t274\t94\t192\t111\t227\t223\t286\t249\t39\n",
            "141\t296\t310\t247\t279\t235\t157\t83\t135\t172\t255\t312\t132\t96\t177\t236\t287\t0\t101\t195\t48\t218\t259\t39\t211\t121\t200\t70\t88\t27\t62\t300\n",
            "52\t207\t221\t158\t190\t146\t68\t44\t46\t83\t166\t223\t43\t35\t88\t147\t198\t101\t0\t106\t69\t129\t170\t88\t122\t32\t111\t41\t37\t100\t63\t211\n",
            "64\t131\t145\t82\t114\t70\t58\t138\t76\t49\t90\t147\t93\t129\t40\t71\t122\t195\t106\t0\t163\t53\t94\t182\t46\t100\t35\t135\t131\t194\t157\t135\n",
            "109\t264\t278\t215\t247\t203\t125\t51\t103\t140\t223\t280\t100\t64\t145\t204\t255\t48\t69\t163\t0\t186\t227\t35\t179\t89\t168\t38\t56\t47\t30\t268\n",
            "87\t94\t108\t45\t77\t33\t81\t161\t99\t72\t53\t110\t116\t152\t63\t34\t85\t218\t129\t53\t186\t0\t57\t205\t25\t123\t42\t158\t154\t217\t180\t98\n",
            "128\t57\t71\t42\t40\t40\t122\t202\t140\t113\t34\t73\t157\t193\t104\t53\t48\t259\t170\t94\t227\t57\t0\t246\t66\t164\t83\t199\t195\t258\t221\t61\n",
            "128\t283\t297\t234\t266\t222\t144\t70\t122\t159\t242\t299\t119\t83\t164\t223\t274\t39\t88\t182\t35\t205\t246\t0\t198\t108\t187\t57\t75\t38\t49\t287\n",
            "80\t103\t117\t54\t86\t42\t74\t154\t92\t65\t62\t119\t109\t145\t56\t43\t94\t211\t122\t46\t179\t25\t66\t198\t0\t116\t35\t151\t147\t210\t173\t107\n",
            "46\t201\t215\t152\t184\t140\t62\t64\t40\t77\t160\t217\t37\t55\t82\t141\t192\t121\t32\t100\t89\t123\t164\t108\t116\t0\t105\t61\t57\t120\t83\t205\n",
            "69\t120\t134\t71\t103\t59\t63\t143\t81\t54\t79\t136\t98\t134\t45\t60\t111\t200\t111\t35\t168\t42\t83\t187\t35\t105\t0\t140\t136\t199\t162\t124\n",
            "81\t236\t250\t187\t219\t175\t97\t23\t75\t112\t195\t252\t72\t36\t117\t176\t227\t70\t41\t135\t38\t158\t199\t57\t151\t61\t140\t0\t28\t69\t32\t240\n",
            "77\t232\t246\t183\t215\t171\t93\t31\t71\t108\t191\t248\t68\t32\t113\t172\t223\t88\t37\t131\t56\t154\t195\t75\t147\t57\t136\t28\t0\t87\t50\t236\n",
            "140\t295\t309\t246\t278\t234\t156\t82\t134\t171\t254\t311\t131\t95\t176\t235\t286\t27\t100\t194\t47\t217\t258\t38\t210\t120\t199\t69\t87\t0\t61\t299\n",
            "103\t258\t272\t209\t241\t197\t119\t45\t97\t134\t217\t274\t94\t58\t139\t198\t249\t62\t63\t157\t30\t180\t221\t49\t173\t83\t162\t32\t50\t61\t0\t262\n",
            "169\t30\t26\t83\t51\t81\t163\t243\t181\t154\t75\t28\t198\t234\t145\t94\t39\t300\t211\t135\t268\t98\t61\t287\t107\t205\t124\t240\t236\t299\t262\t0\n"
          ]
        }
      ]
    },
    {
      "cell_type": "markdown",
      "source": [
        "# Toward An Algorithm for Distance-Based Phylogeny Construction"
      ],
      "metadata": {
        "id": "qFTPKNI0NRmv"
      }
    },
    {
      "cell_type": "markdown",
      "source": [
        "The figure below illustrates that for neighboring leaves i and j sharing a parent node m, the following equality holds for every other leaf k in the tree:"
      ],
      "metadata": {
        "id": "b2UJ8WO1NWqJ"
      }
    },
    {
      "cell_type": "markdown",
      "source": [
        "![image.png](data:image/png;base64,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)"
      ],
      "metadata": {
        "id": "EXgAg-oJNPkW"
      }
    },
    {
      "cell_type": "markdown",
      "source": [
        "This discussion implies a recursive algorithm for the Distance-Based Phylogeny Problem:\n",
        "\n",
        "find a pair of neighboring leaves i and j by selecting the minimum element Di,j in the distance matrix;\n",
        "replace i and j with their parent, and recompute the distances from this parent to all other leaves as described above;\n",
        "solve the Distance-Based Phylogeny problem for the smaller tree;\n",
        "add the previously removed leaves i and j back to the tree."
      ],
      "metadata": {
        "id": "F_tL6o4WN9rK"
      }
    },
    {
      "cell_type": "markdown",
      "source": [
        "To compute LimbLength(j) for a given leaf j, note that because Tree(D) is simple, we know that Parent(j) has degree at least 3 (unless Tree(D) has only two nodes). We can therefore think of Parent(j) as dividing the other nodes of Tree(D) into at least three subtrees, or smaller trees that would remain if we were to remove Parent(j) along with any edges connecting it to other nodes (see figure below). Because j is a leaf, it must belong to a subtree by itself; we call this subtree Tj. This brings us to the following result.\n",
        "\n",
        "Limb Length Theorem: Given an additive matrix D and a leaf j, LimbLength(j) is equal to the minimum value of\n",
        "(\n",
        "D\n",
        "i\n",
        ",\n",
        "j\n",
        "+\n",
        "D\n",
        "j\n",
        ",\n",
        "k\n",
        "−\n",
        "D\n",
        "i\n",
        ",\n",
        "k\n",
        ")\n",
        "/\n",
        "2\n",
        "(D\n",
        "i,j\n",
        "​\n",
        " +D\n",
        "j,k\n",
        "​\n",
        " −D\n",
        "i,k\n",
        "​\n",
        " )/2 over all leaves i and k."
      ],
      "metadata": {
        "id": "GEzvcJqmOXkw"
      }
    },
    {
      "cell_type": "code",
      "source": [
        "def calculate_limb_length(N, j, M):\n",
        "    min_limb_length = float('inf')  # Initialize with a very large number\n",
        "    for i in range(N):\n",
        "        for k in range(N):\n",
        "            if i != j and k != j:\n",
        "                # Compute the limb length using the formula\n",
        "                limb_length = (M[i][j] + M[j][k] - M[i][k]) / 2\n",
        "                if limb_length < min_limb_length:\n",
        "                    min_limb_length = limb_length\n",
        "    return int(min_limb_length)\n",
        "\n",
        "def load_data_from_file(file_path):\n",
        "    with open(file_path, 'r') as f:\n",
        "        lines = f.readlines()\n",
        "\n",
        "    # First line is the number of nodes, N\n",
        "    N = int(lines[0].strip())\n",
        "\n",
        "    # Second line is the index j of the leaf whose limb length we need to calculate\n",
        "    j = int(lines[1].strip())\n",
        "\n",
        "    # The rest are the distance matrix\n",
        "    matrix = []\n",
        "    for line in lines[2:]:\n",
        "        row = list(map(int, line.split()))\n",
        "        matrix.append(row)\n",
        "\n",
        "    return N, j, matrix"
      ],
      "metadata": {
        "id": "SNKgIv3QNQ8w"
      },
      "execution_count": 33,
      "outputs": []
    },
    {
      "cell_type": "code",
      "source": [
        "# Distance matrix\n",
        "distance_matrix = [\n",
        "    [0, 13, 16, 10],  # i\n",
        "    [13, 0, 21, 15],  # j\n",
        "    [16, 21, 0, 18],  # k\n",
        "    [10, 15, 18, 0]   # l\n",
        "]\n",
        "\n",
        "# Number of nodes\n",
        "N = len(distance_matrix)\n",
        "\n",
        "# Calculate limb length for node i (index 0)\n",
        "node_index = 0  # Corresponding to node 'i'\n",
        "limb_length_i = calculate_limb_length(N, node_index, distance_matrix)\n",
        "\n",
        "# Print the result\n",
        "print(f\"Limb Length(i): {limb_length_i}\")"
      ],
      "metadata": {
        "colab": {
          "base_uri": "https://localhost:8080/"
        },
        "id": "Nt3dOfrNbQq_",
        "outputId": "d09f5fc5-0d8f-4a9e-ac9c-52ecdbc7aaa6"
      },
      "execution_count": 34,
      "outputs": [
        {
          "output_type": "stream",
          "name": "stdout",
          "text": [
            "Limb Length(i): 4\n"
          ]
        }
      ]
    },
    {
      "cell_type": "code",
      "source": [
        "# File path to the input file\n",
        "file_path = '/content/drive/MyDrive/Bioinformatics /BIO IV/dataset_30285_11.txt'  # Update with the correct path to your file\n",
        "\n",
        "# Load data from the file\n",
        "N, j, matrix = load_data_from_file(file_path)\n",
        "\n",
        "# Calculate the limb length\n",
        "limb_length = calculate_limb_length(N, j, matrix)\n",
        "\n",
        "# Output the result\n",
        "print(limb_length)"
      ],
      "metadata": {
        "colab": {
          "base_uri": "https://localhost:8080/"
        },
        "id": "-4uOvFncRY34",
        "outputId": "1e53c362-44a8-4534-bc15-aa049ba5807c"
      },
      "execution_count": 10,
      "outputs": [
        {
          "output_type": "stream",
          "name": "stdout",
          "text": [
            "361\n"
          ]
        }
      ]
    },
    {
      "cell_type": "markdown",
      "source": [
        "# **Algorithm for distance-based phylogeny reconstruction**"
      ],
      "metadata": {
        "id": "izlomXbJSWU0"
      }
    },
    {
      "cell_type": "markdown",
      "source": [
        "\n",
        "\n",
        "```\n",
        "# AdditivePhylogeny(D)\n",
        "    n ← number of rows in D\n",
        "    if n = 2\n",
        "        return the tree consisting of a single edge of length D1,2\n",
        "    limbLength ← Limb(D, n)\n",
        "    for j ← 1 to n - 1\n",
        "        Dj,n ← Dj,n - limbLength\n",
        "        Dn,j ← Dj,n\n",
        "    (i, k) ← two leaves such that Di,k = Di,n + Dn,k\n",
        "    x ← Di,n\n",
        "    D ← D﻿ with row n and column n removed\n",
        "    T ← AdditivePhylogeny(D)\n",
        "    v ← the (potentially new) node in T at distance x from i on the path between i and k\n",
        "    add leaf n back to T by creating a limb (v, n) of length limbLength\n",
        "    return T\n",
        "```\n",
        "\n"
      ],
      "metadata": {
        "id": "-Aos4oa2Sgeg"
      }
    },
    {
      "cell_type": "code",
      "source": [
        "import numpy as np\n",
        "\n",
        "def calculate_limb_length(distance_matrix: np.ndarray, target_node: int) -> int:\n",
        "\n",
        "    min_length = np.inf\n",
        "    other_nodes = [i for i in range(distance_matrix.shape[0]) if i != target_node]\n",
        "\n",
        "    for current_node in range(distance_matrix.shape[0]):\n",
        "        if current_node == target_node:\n",
        "            continue\n",
        "        limb_length = min(distance_matrix[other_nodes, target_node] - distance_matrix[other_nodes, current_node] + distance_matrix[target_node, current_node])\n",
        "        min_length = min(min_length, limb_length)\n",
        "\n",
        "    return min_length // 2\n",
        "\n",
        "def find_node_indices(distance_matrix: np.ndarray) -> tuple[int, int]:\n",
        "    \"\"\"\n",
        "    Find indices in the distance matrix that satisfy a specific condition.\n",
        "    \"\"\"\n",
        "    for idx in range(distance_matrix.shape[0] - 1):\n",
        "        difference = distance_matrix[idx] - distance_matrix[-1]\n",
        "        matching_indices = np.where(difference == distance_matrix[idx, -1])\n",
        "        if len(matching_indices[0]) > 0:\n",
        "            return (matching_indices[0][0], idx)\n",
        "    return None\n",
        "\n",
        "def locate_closest_nodes(tree: dict, edge_weights: dict, target_distance: int, start: int, end: int) -> tuple[int, int, int, int]:\n",
        "\n",
        "    paths = [[start]]\n",
        "    visited = {start}\n",
        "    path_to_target = []\n",
        "\n",
        "    while paths:\n",
        "        current_path = paths.pop()\n",
        "        current_node = current_path[-1]\n",
        "        visited.add(current_node)\n",
        "\n",
        "        if current_node == end:\n",
        "            path_to_target = current_path\n",
        "            break\n",
        "\n",
        "        for neighbor in tree[current_node]:\n",
        "            if neighbor not in visited:\n",
        "                paths.append(current_path + [neighbor])\n",
        "\n",
        "    # Calculate the total distance along the path\n",
        "    total_dist = 0\n",
        "    for i in range(len(path_to_target) - 1):\n",
        "        a, b = path_to_target[i], path_to_target[i + 1]\n",
        "        if total_dist + edge_weights[(a, b)] > target_distance:\n",
        "            return (a, b, target_distance - total_dist, total_dist + edge_weights[(a, b)] - target_distance)\n",
        "        total_dist += edge_weights[(a, b)]\n",
        "\n",
        "def construct_phylogenetic_tree(distance_matrix: np.ndarray, num_leaves: int, inner_node_counter: int) -> tuple[dict, dict, int]:\n",
        "\n",
        "    if num_leaves == 2:\n",
        "        tree = {0: [1], 1: [0]}\n",
        "        weights = {(0, 1): distance_matrix[0, 1], (1, 0): distance_matrix[0, 1]}\n",
        "        return tree, weights, inner_node_counter\n",
        "\n",
        "    limb_length = calculate_limb_length(distance_matrix, num_leaves - 1)\n",
        "    distance_matrix[:-1, -1] -= limb_length\n",
        "    distance_matrix[-1, :-1] -= limb_length\n",
        "\n",
        "    index_i, index_k = find_node_indices(distance_matrix)\n",
        "    target_distance = distance_matrix[index_i, -1]\n",
        "\n",
        "    tree, weights, inner_node_counter = construct_phylogenetic_tree(distance_matrix[:-1, :-1], num_leaves - 1, inner_node_counter)\n",
        "\n",
        "    closest_i, closest_k, limb_i, limb_k = locate_closest_nodes(tree, weights, target_distance, index_i, index_k)\n",
        "    new_node_index = closest_i\n",
        "\n",
        "    # Check if a new inner node is needed\n",
        "    if limb_i != 0:\n",
        "        new_node_index = inner_node_counter\n",
        "        inner_node_counter += 1\n",
        "        tree[closest_i].remove(closest_k)\n",
        "        tree[closest_k].remove(closest_i)\n",
        "\n",
        "        tree[closest_i].append(new_node_index)\n",
        "        tree[closest_k].append(new_node_index)\n",
        "        tree[new_node_index] = [closest_i, closest_k]\n",
        "\n",
        "        weights[(new_node_index, closest_i)] = limb_i\n",
        "        weights[(closest_i, new_node_index)] = limb_i\n",
        "        weights[(new_node_index, closest_k)] = limb_k\n",
        "        weights[(closest_k, new_node_index)] = limb_k\n",
        "\n",
        "        del weights[(closest_i, closest_k)]\n",
        "        del weights[(closest_k, closest_i)]\n",
        "\n",
        "    # Add the leaf node back to the tree\n",
        "    tree[new_node_index].append(num_leaves - 1)\n",
        "    tree[num_leaves - 1] = [new_node_index]\n",
        "    weights[(num_leaves - 1, new_node_index)] = limb_length\n",
        "    weights[(new_node_index, num_leaves - 1)] = limb_length\n",
        "\n",
        "    return tree, weights, inner_node_counter\n",
        "\n",
        "def print_phylogenetic_tree(tree: dict, weights: dict) -> None:\n",
        "\n",
        "    for node in sorted(tree):\n",
        "        for neighbor in sorted(tree[node]):\n",
        "            print(f\"{node}->{neighbor}:{weights[(node, neighbor)]}\")\n",
        "\n",
        "def read_distance_matrix(file_path: str) -> tuple[int, np.ndarray]:\n",
        "\n",
        "    with open(file_path) as file:\n",
        "        for index, line in enumerate(file):\n",
        "            line = line.strip()\n",
        "            if index == 0:\n",
        "                size = int(line)\n",
        "                matrix = np.zeros((size, size), dtype=np.int32)\n",
        "            else:\n",
        "                row_values = np.array(line.split()).astype(np.int32)\n",
        "                matrix[index - 1] += row_values\n",
        "    return size, matrix\n",
        "\n",
        "# Execution\n",
        "num_leaves, distance_matrix = read_distance_matrix(\"/content/drive/MyDrive/Bioinformatics /BIO IV/dataset_30286_6.txt\")\n",
        "phylo_tree, edge_weights, _ = construct_phylogenetic_tree(distance_matrix, num_leaves, num_leaves)\n",
        "print_phylogenetic_tree(phylo_tree, edge_weights)\n"
      ],
      "metadata": {
        "colab": {
          "base_uri": "https://localhost:8080/"
        },
        "id": "FVjCbiGWSk9F",
        "outputId": "96defad5-5103-467c-aa5b-7691c10d1713"
      },
      "execution_count": 35,
      "outputs": [
        {
          "output_type": "stream",
          "name": "stdout",
          "text": [
            "0->31:212\n",
            "1->20:324\n",
            "2->21:998\n",
            "3->27:852\n",
            "4->22:158\n",
            "5->23:722\n",
            "6->24:470\n",
            "7->25:207\n",
            "8->26:861\n",
            "9->34:301\n",
            "10->28:391\n",
            "11->29:277\n",
            "12->30:164\n",
            "13->35:442\n",
            "14->32:108\n",
            "15->33:952\n",
            "16->34:589\n",
            "17->35:573\n",
            "18->36:542\n",
            "19->37:582\n",
            "20->1:324\n",
            "20->23:696\n",
            "20->32:818\n",
            "21->2:998\n",
            "21->27:401\n",
            "21->32:139\n",
            "22->4:158\n",
            "22->24:628\n",
            "22->31:390\n",
            "23->5:722\n",
            "23->20:696\n",
            "23->25:537\n",
            "24->6:470\n",
            "24->22:628\n",
            "24->29:186\n",
            "25->7:207\n",
            "25->23:537\n",
            "25->26:172\n",
            "26->8:861\n",
            "26->25:172\n",
            "26->29:659\n",
            "27->3:852\n",
            "27->21:401\n",
            "27->30:725\n",
            "28->10:391\n",
            "28->34:907\n",
            "28->37:858\n",
            "29->11:277\n",
            "29->24:186\n",
            "29->26:659\n",
            "30->12:164\n",
            "30->27:725\n",
            "30->37:133\n",
            "31->0:212\n",
            "31->22:390\n",
            "31->33:390\n",
            "32->14:108\n",
            "32->20:818\n",
            "32->21:139\n",
            "33->15:952\n",
            "33->31:390\n",
            "33->36:314\n",
            "34->9:301\n",
            "34->16:589\n",
            "34->28:907\n",
            "35->13:442\n",
            "35->17:573\n",
            "35->36:406\n",
            "36->18:542\n",
            "36->33:314\n",
            "36->35:406\n",
            "37->19:582\n",
            "37->28:858\n",
            "37->30:133\n"
          ]
        }
      ]
    }
  ]
}