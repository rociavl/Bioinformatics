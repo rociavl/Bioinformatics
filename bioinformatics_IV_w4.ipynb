{
  "nbformat": 4,
  "nbformat_minor": 0,
  "metadata": {
    "colab": {
      "provenance": [],
      "authorship_tag": "ABX9TyNwfjmUZEMgYd13R3vmLm7N"
    },
    "kernelspec": {
      "name": "python3",
      "display_name": "Python 3"
    },
    "language_info": {
      "name": "python"
    }
  },
  "cells": [
    {
      "cell_type": "markdown",
      "source": [
        "**Paleontology Meets Computing**\n"
      ],
      "metadata": {
        "id": "7ccIOV-tHf_t"
      }
    },
    {
      "cell_type": "markdown",
      "source": [
        "Only five scientists have ever won two Nobel Prizes. One of them is Frederick Sanger, whose assembly of the first genome in 1977 we mentioned in a previous chapter. Yet Sanger had already won his first Nobel prize two decades earlier for determining the sequence of 52 amino acids making up insulin, the protein needed to absorb glucose in the blood. Similarly to how scientists sequence genomes, Sanger broke multiple molecules of insulin into short peptides, sequenced these peptides, and then assembled them into the amino acid sequence of insulin ."
      ],
      "metadata": {
        "id": "dmb1l97AH8H9"
      }
    },
    {
      "cell_type": "markdown",
      "source": [
        "This idea motivates a graph-based approach to solving the Decoding an Ideal Spectrum Problem. We represent the masses in a spectrum as a sequence Spectrum of integers s1, . . . , sm in increasing order, where s1 is zero and sm is the total mass of the (unknown) peptide. We define a labeled graph Graph(Spectrum) by forming a node for each element of Spectrum, then connecting nodes si and sj by a directed edge labeled by an amino acid a if sj − si is equal to the mass of a (see figure below). As we assumed when sequencing antibiotics, we do not distinguish between amino acids having the same integer masses (i.e., the pairs K/Q and I/L)."
      ],
      "metadata": {
        "id": "BuEz4xy9K3BR"
      }
    },
    {
      "cell_type": "markdown",
      "source": [
        "Code Challenge: Construct the graph of a spectrum.\n",
        "\n",
        "- Input: A space-delimited list of integers Spectrum.\n",
        "- Output: Graph(Spectrum).\n",
        "\n",
        "Note: Throughout this chapter, all dataset problems implicitly use the standard integer-valued mass table for the regular twenty amino acids. Examples sometimes use the toy amino acid alphabet {X, Z} whose masses are 4 and 5, respectively."
      ],
      "metadata": {
        "id": "PHup1mmBLLrO"
      }
    },
    {
      "cell_type": "markdown",
      "source": [
        "\n",
        "\n",
        "```\n",
        "# Sample Input:\n",
        "57 71 154 185 301 332 415 429 486\n",
        "\n",
        "Sample Output:\n",
        "0->57:G\n",
        "0->71:A\n",
        "57->154:P\n",
        "57->185:K\n",
        "71->185:N\n",
        "154->301:F\n",
        "185->332:F\n",
        "301->415:N\n",
        "301->429:K\n",
        "332->429:P\n",
        "415->486:A\n",
        "429->486:G\n",
        "```\n",
        "\n"
      ],
      "metadata": {
        "id": "_NF9PrmlMqrP"
      }
    },
    {
      "cell_type": "code",
      "source": [
        "# Dictionnaire des masses d'acides aminés\n",
        "def AminoAcidMassDict(self):\n",
        "        massTable = '''\n",
        "G 57\n",
        "A 71\n",
        "S 87\n",
        "P 97\n",
        "V 99\n",
        "T 101\n",
        "C 103\n",
        "I 113\n",
        "L 113\n",
        "N 114\n",
        "D 115\n",
        "K 128\n",
        "Q 128\n",
        "E 129\n",
        "M 131\n",
        "H 137\n",
        "F 147\n",
        "R 156\n",
        "Y 163\n",
        "W 186'''\n",
        "        mass = massTable.split()\n",
        "        return {int(mass[i+1]):mass[i] for i in range(0, len(mass), 2)}, {mass[i]:int(mass[i+1]) for i in range(0, len(mass), 2)}\n",
        "\n",
        "# Inverser le dictionnaire pour trouver l'acide aminé à partir de sa masse\n",
        "mass_to_amino_acid = {mass: aa for aa, mass in amino_acid_mass.items()}\n",
        "\n",
        "# Entrée : liste des masses du spectre\n",
        "spectrum = [97, 113, 276, 283, 370, 389, 498, 518, 585, 681, 699, 752, 802, 853, 958, 981, 1094, 1121, 1280, 1284, 1443, 1470, 1583, 1606, 1711, 1762, 1812, 1865, 1883, 1979, 2046, 2066, 2175, 2194, 2281, 2288, 2451, 2467, 2564]\n",
        "\n",
        "\n",
        "# Liste pour stocker les résultats\n",
        "graph = []\n"
      ],
      "metadata": {
        "id": "cxCajMFPP-qD"
      },
      "execution_count": null,
      "outputs": []
    },
    {
      "cell_type": "code",
      "source": [
        "def construct_graph(spectrum):\n",
        "  graph = []\n",
        "  for number_mass in range(len(spectrum)):\n",
        "    if spectrum[number_mass] in mass_to_amino_acid:\n",
        "      graph.append(f\"{'0'}->{spectrum[number_mass]}:{mass_to_amino_acid[spectrum[number_mass]]}\")\n",
        "    else:\n",
        "      for i in range(number_mass):\n",
        "        if spectrum[number_mass] - spectrum[i] in mass_to_amino_acid:\n",
        "          graph.append(f\"{spectrum[i]}->{spectrum[number_mass]}:{mass_to_amino_acid[spectrum[number_mass] - spectrum[i]]}\")\n",
        "\n",
        "  return graph\n",
        "\n",
        "graph = construct_graph(spectrum)\n",
        "for edge in graph:\n",
        "  print(edge)\n",
        "\n"
      ],
      "metadata": {
        "colab": {
          "base_uri": "https://localhost:8080/"
        },
        "id": "SEORm9m4Mpdv",
        "outputId": "a99c6787-71a4-45dc-a420-c4227233e004"
      },
      "execution_count": null,
      "outputs": [
        {
          "output_type": "stream",
          "name": "stdout",
          "text": [
            "0->97:P\n",
            "0->113:L\n",
            "113->276:Y\n",
            "97->283:W\n",
            "283->370:S\n",
            "276->389:L\n",
            "370->498:Q\n",
            "389->518:E\n",
            "498->585:S\n",
            "518->681:Y\n",
            "585->699:N\n",
            "681->752:A\n",
            "699->802:C\n",
            "752->853:T\n",
            "802->958:R\n",
            "853->981:Q\n",
            "981->1094:L\n",
            "958->1121:Y\n",
            "1094->1280:W\n",
            "1121->1284:Y\n",
            "1280->1443:Y\n",
            "1284->1470:W\n",
            "1470->1583:L\n",
            "1443->1606:Y\n",
            "1583->1711:Q\n",
            "1606->1762:R\n",
            "1711->1812:T\n",
            "1762->1865:C\n",
            "1812->1883:A\n",
            "1865->1979:N\n",
            "1883->2046:Y\n",
            "1979->2066:S\n",
            "2046->2175:E\n",
            "2066->2194:Q\n",
            "2194->2281:S\n",
            "2175->2288:L\n",
            "2288->2451:Y\n",
            "2281->2467:W\n",
            "2451->2564:L\n",
            "2467->2564:P\n"
          ]
        }
      ]
    },
    {
      "cell_type": "markdown",
      "source": [
        "Code Challenge: Solve the Decoding an Ideal Spectrum Problem.\n",
        "\n",
        "- Input: A space-delimited list of integers Spectrum.\n",
        "- Output: An amino acid string that explains Spectrum."
      ],
      "metadata": {
        "id": "z0SJpUGy0bZX"
      }
    },
    {
      "cell_type": "markdown",
      "source": [
        "Spectrum to list"
      ],
      "metadata": {
        "id": "PoLsh1JXLGik"
      }
    },
    {
      "cell_type": "code",
      "source": [
        "import numpy as np\n",
        "\n",
        "# Dictionnaire des masses d'acides aminés\n",
        "def AminoAcidMassDict():\n",
        "    massTable = '''\n",
        "G 57\n",
        "A 71\n",
        "S 87\n",
        "P 97\n",
        "V 99\n",
        "T 101\n",
        "C 103\n",
        "I 113\n",
        "L 113\n",
        "N 114\n",
        "D 115\n",
        "K 128\n",
        "Q 128\n",
        "E 129\n",
        "M 131\n",
        "H 137\n",
        "F 147\n",
        "R 156\n",
        "Y 163\n",
        "W 186'''\n",
        "    mass = massTable.split()\n",
        "    return {int(mass[i+1]): mass[i] for i in range(0, len(mass), 2)}, {mass[i]: int(mass[i+1]) for i in range(0, len(mass), 2)}\n",
        "\n",
        "class IdealSpectrumDecoder:\n",
        "    def __init__(self, sp_str):\n",
        "        self.mass_to_amino_acid, self.amino_acid_to_mass = AminoAcidMassDict()\n",
        "        spectrum = self.spectrum_to_list(sp_str)\n",
        "        graph = self.construct_graph(spectrum)\n",
        "        peptide = self.DecodingIdealSpectrum(spectrum)\n",
        "        print(\"Graphe généré :\")\n",
        "        for edge in graph:\n",
        "            print(edge)\n",
        "        print(\"\\nFragment final :\")\n",
        "        print(peptide)\n",
        "\n",
        "    # Convertir une chaîne en liste de masses\n",
        "    def spectrum_to_list(self, str_spe):\n",
        "        return [int(i) for i in str_spe.split()]\n",
        "\n",
        "    # Construire le graphe à partir du spectre\n",
        "    def construct_graph(self, spectrum):\n",
        "        graph = []\n",
        "        for current_index in range(len(spectrum)):\n",
        "            current_mass = spectrum[current_index]\n",
        "            for previous_index in range(current_index):\n",
        "                previous_mass = spectrum[previous_index]\n",
        "                mass_diff = current_mass - previous_mass\n",
        "                if mass_diff in self.mass_to_amino_acid:\n",
        "                    graph.append(f\"{previous_mass}->{current_mass}:{self.mass_to_amino_acid[mass_diff]}\")\n",
        "        return graph\n",
        "\n",
        "    # Fonction pour décoder le spectre et reconstruire le peptide\n",
        "    def DecodingIdealSpectrum(self, spectrum):\n",
        "        graph = self.construct_graph(spectrum)\n",
        "        peptide = ''\n",
        "        for edge in graph:\n",
        "            aa = edge.split(':')[1]\n",
        "            peptide += aa\n",
        "        return peptide\n",
        "\n",
        "    # Générer le spectre idéal pour un peptide donné\n",
        "    def getIdealSpectrum(self, peptide, aaDict):\n",
        "        n = len(peptide)\n",
        "        ispectrum = []\n",
        "        for i in range(n):\n",
        "            ispectrum.append(sum([aaDict[aa] for aa in peptide[:i]]))\n",
        "            ispectrum.append(sum([aaDict[aa] for aa in peptide[i:]]))\n",
        "        return sorted(ispectrum)\n",
        "\n",
        "    # Décoder un spectre en un peptide\n",
        "    def decodeSpectrum(self, spectrum):\n",
        "        massDict, aaDict = AminoAcidMassDict()\n",
        "        adj = self.constructGraph(spectrum, massDict)\n",
        "        s = 0\n",
        "        d = adj[-1][-1][0]  # Dernier élément du graphe\n",
        "        paths = self.findAllPaths(adj, s, d)\n",
        "        for path in paths:\n",
        "            ispectrum = self.getIdealSpectrum(path, aaDict)\n",
        "            if ispectrum == spectrum:\n",
        "                return ''.join(path)\n",
        "\n",
        "    # Construire le graphe des arêtes et masses\n",
        "    def constructGraph(self, spectrum, massDict):\n",
        "        adj = [[] for _ in range(len(spectrum))]\n",
        "        spectrum.insert(0, 0)  # Ajouter un point de départ 0 pour le spectre\n",
        "        for i in range(len(spectrum) - 1):\n",
        "            for j in range(i + 1, len(spectrum)):\n",
        "                mass = spectrum[j] - spectrum[i]\n",
        "                if mass in massDict:\n",
        "                    adj[i].append((j, massDict[mass]))  # Ajouter les arêtes du graphe\n",
        "        return adj\n",
        "\n",
        "    # Trouver tous les chemins possibles dans le graphe\n",
        "    def findAllPaths(self, adj, s, d):\n",
        "        paths = []\n",
        "        path = []\n",
        "        self.findAllPathsUtil(adj, '', s, d, path, paths)\n",
        "        return paths\n",
        "\n",
        "    # Fonction utilitaire pour trouver les chemins\n",
        "    def findAllPathsUtil(self, adj, char, u, d, path, paths):\n",
        "        path.append(char)\n",
        "        if u == d:\n",
        "            paths.append(path[1:])  # Ajouter le chemin complet\n",
        "        else:\n",
        "            for v, char in adj[u]:\n",
        "                self.findAllPathsUtil(adj, char, v, d, path, paths)\n",
        "        del path[-1]  # Retour arrière (backtracking)\n",
        "\n",
        "\n",
        "if __name__ == \"__main__\":\n",
        "    sp_str = '71 101 168 264 354 427 484 491 562 581 718 725 831 838 937 962 1051 1065 1152 1212 1253 1315 1340 1428 1487 1515 1574 1662 1687 1749 1790 1850 1937 1951 2040 2065 2164 2171 2277 2284 2421 2440 2511 2518 2575 2648 2738 2834 2901 2931 3002'\n",
        "    IdealSpectrumDecoder(sp_str)\n"
      ],
      "metadata": {
        "colab": {
          "base_uri": "https://localhost:8080/"
        },
        "id": "8hVONJDF0w8x",
        "outputId": "04a76155-5a19-40bb-c8ae-e418273effc0"
      },
      "execution_count": null,
      "outputs": [
        {
          "output_type": "stream",
          "name": "stdout",
          "text": [
            "Graphe généré :\n",
            "71->168:P\n",
            "101->264:Y\n",
            "168->354:W\n",
            "264->427:Y\n",
            "427->484:G\n",
            "354->491:H\n",
            "491->562:A\n",
            "484->581:P\n",
            "562->718:R\n",
            "581->718:H\n",
            "562->725:Y\n",
            "718->831:L\n",
            "725->838:L\n",
            "838->937:V\n",
            "831->962:M\n",
            "937->1051:N\n",
            "937->1065:Q\n",
            "962->1065:C\n",
            "1051->1152:T\n",
            "1065->1152:S\n",
            "1065->1212:F\n",
            "1152->1253:T\n",
            "1152->1315:Y\n",
            "1212->1315:C\n",
            "1212->1340:Q\n",
            "1253->1340:S\n",
            "1315->1428:L\n",
            "1340->1487:F\n",
            "1428->1515:S\n",
            "1487->1574:S\n",
            "1515->1662:F\n",
            "1574->1687:L\n",
            "1662->1749:S\n",
            "1662->1790:Q\n",
            "1687->1790:C\n",
            "1687->1850:Y\n",
            "1749->1850:T\n",
            "1790->1937:F\n",
            "1850->1937:S\n",
            "1850->1951:T\n",
            "1937->2040:C\n",
            "1937->2065:Q\n",
            "1951->2065:N\n",
            "2065->2164:V\n",
            "2040->2171:M\n",
            "2164->2277:L\n",
            "2171->2284:L\n",
            "2284->2421:H\n",
            "2277->2440:Y\n",
            "2284->2440:R\n",
            "2440->2511:A\n",
            "2421->2518:P\n",
            "2518->2575:G\n",
            "2511->2648:H\n",
            "2575->2738:Y\n",
            "2648->2834:W\n",
            "2738->2901:Y\n",
            "2834->2931:P\n",
            "2901->3002:T\n",
            "2931->3002:A\n",
            "\n",
            "Fragment final :\n",
            "PYWYGHAPRHYLLVMNQCTSFTYCQSLFSSFLSQCYTFSTCQNVMLLHYRAPGHYWYPTA\n"
          ]
        }
      ]
    },
    {
      "cell_type": "markdown",
      "source": [
        "The figure below shows a mass spectrum for one of the T. rex spectra (henceforth referred to as DinosaurSpectrum), along with its two putative interpretations, ATKIVDCFMTY and GLVGAPGLRGLPGK. Once we infer the peptide that generated a given spectrum, we can annotate the spectrum by establishing a correspondence between the masses of spectral peaks and the masses of the peptide's prefixes/suffixes. To comply with standard mass spectrometry terminology, a peak annotated as the prefix of length i is labeled bi , and a peak annotated as the suffix of length i is labeled yi ."
      ],
      "metadata": {
        "id": "KDCQQfaSLbMC"
      }
    },
    {
      "cell_type": "markdown",
      "source": [
        "**Scoring peptides against spectra**"
      ],
      "metadata": {
        "id": "WLuMDuu2NBJ4"
      }
    },
    {
      "cell_type": "markdown",
      "source": [
        "Consider an imaginary world in which peptides are built from just two amino acids, X and Z, having respective masses 4 and 5. For example, given the peptide XZZXX, prefixes have masses 4, 9, 14, 18, and 22, while suffixes have masses 22, 18, 13, 8, 4.\n",
        "\n",
        "Now consider the hypothetical spectrum:\n",
        "(0, 0, 0, 3, 8, 7, 2, 1, 100, 0, 1, 4, 3, 500, 2, 1, 3, 9, 1, 2, 2, 0)\n",
        "\n",
        "arising from this peptide, where the i-th element of this vector corresponds to the intensity detected at mass i. The prefixes of XZZXX annotate peaks with intensities 3, 100, 500, 9, and 0, whereas the suffixes annotate peaks with intensities 3, 1, 3, 9, and 0. Our goal is to develop an approach for scoring peptides against spectra in the hope that we will be able to find a peptide that generated the spectrum by simply finding the peptide with maximum score against this spectrum.\n"
      ],
      "metadata": {
        "id": "-nh0gLr9NHgZ"
      }
    },
    {
      "cell_type": "markdown",
      "source": [
        "A better approach would account for intensities of peaks without letting the tallest peaks dominate the score. To achieve this goal, we will represent its prefix masses using a binary peptide vector Peptide' with Mass(Peptide) coordinates. This vector contains a 1 at each of the n prefix coordinates"
      ],
      "metadata": {
        "id": "XA08EYOGQENr"
      }
    },
    {
      "cell_type": "markdown",
      "source": [
        "![image.png](data:image/png;base64,iVBORw0KGgoAAAANSUhEUgAAAW4AAAAkCAYAAACpFtAxAAAAAXNSR0IArs4c6QAAAARnQU1BAACxjwv8YQUAAAAJcEhZcwAADsMAAA7DAcdvqGQAABQySURBVHhe7Z0PTFtHnse/ezmdK06h2mqJuiesRphuBTTVOU11eFMVa6vG3d5BLgohVcEXFZLsAb1tINkrbrTBqRpMdAWq20C1i8mqhGzLHzXF7OZC2whH28WRmmKpWVtKsKUktpQIn1JBL1G8Cnr3m/fG+BmM/Ui5grn5SMZ+42H4zfzm95uZ38x7fE8iIBAIBIKM4a/4u0AgEAgyBOG4BQKBIMMQjlsgEAgyDOG4BQKBIMMQjlsgEAgyDOG4BQKBIMMQjlsgEAgyDOG4BQKBIMMQjlsgEAgyDOG4BQKBIMMQjlsgEAgyDOG4BQKBIMNY+457NoTRww6Mfs2vvyWRMzbYzob41f8T7vrhPOCEf5ZfrwK8J2rgvBzlV4KVIHTWBsfZGX4lWBZuuWA7PIpQGltbouOOYKDaAIPBgIaUCovnq/pwBZ0cOe2BWgsaIgYUZvO0b0nOM2bgXQtqhh60Xl44qF0MBjM6/TwpGVHKV6K0oeMiT1sJ7pIc/1yKwUefhmEdT1sFFJZsxrlXyuC4tDacd2SoRta14cAoUlpWLF/lAFZy+hAiOSxvTMHw1DIZlkAhxwjz/XZYakm/KZz3Eh13GMELyqfRK0HlQxKiFzph5/mKNuqVDytA6Iwd9mtWnH63Avrlcjq5FtjfsiJ41I6BME9bCrcmEZA/hDBxJSJ/Skag/xiccvkmGHLlpBUgCu9/NuHURgecvzBCx1NXA7pN9eg4nAvnm+3w3uWJGUw44FY+nPdhUcu660bnUZ6vUI8Vs6zwAOxHw7D+tgsVK9Y31yjr9LA022G9Qr7rzOJD89Ict+x0dNBlkUlfmkw+4s/SsvrYKSCLmfkKOp2vR9F+1IOKw40wkrzLia64Ho1mN+zvpJ4dJSUchJu3oduvuPAFkOyd/+GlPKwNi6D/oZL8neN3oql7PWxvLOPAt4zodx1EY5RkfD/V0iUTiGDyKvUrpu+7E5hcZELgf9+BU6zv0GfTihnWDEbfscOzw4bGLatpKF9DZJlQf8gM99H2RUO8S3Pc15jToULryoCLfgSTrFIjZ9rQHjTDWmmiqyI8ru5fEQ+ch8pRvImFAApRvN8B94JOGkVgxIG6bUZ5SVi4tRz2oQClqkmfJ3S2Gy5Ysf3ZJJ1LkxypyIZltxUY6cbwdZ6kkVDARz+t1IY0X/oiwGffamiW+2sHXI/shXUH1ajEgHyV04xcdKJhdzEK2XJ5UzFqWt0Ll1QJ9TPSsqsTnvmT+9kIPN0NKN9aKLehcVsdOi+qM0XhGepEoKQCLxp4kgpNcqTj2+phXSHK9hsR6BqAJ5MjJrMBeSVrqqtHGTzwJzOsWwNoeycAc6WVLJAsK181374bgKu1DpYtrB1Jl+UNOLUg/q/FrijXVRcctRYYuV7LjwwgoF7RXB9G9wj14DLzwhWYJjnSsBxlrDiJbW3YUo6G0/4FbZ2K7G1W8hIudC+2n8b+A45WbnxQKeXltUgTgV6pNK9EOuHjX8S4MyY1P5knbevySeNv50l5r/ZLU/wr6eawVE3fFVS0SP2fjUvjf+yXml+gPC+ckHz3eR7C17WN/sY2qfY3w5RnXBpu3ykV5BVIB/4wzXNoyXND6t1JZb89zq9VaJQjLfeornl5UvXgXA01EWuXSXcz1eGAdC5eLQVq251yXSak/lcor2OCfyFJUx9Vy/Xc+Xa/NEb1Hh9slraRDKy957h9Tjqgrt9nvVLTgvpNS+deL5DyntwptQyOURuMSb3/rrTpnE7vjcu6rPzgBk+Io0mOdCyXHuS+WCC1fMGvM5FQv1RJ7dfyxaTUuz1PKlnQjveksV+Svljb/LGF9FQt9d+MfTUhtcntVit1u1g7jkkn9jHdUt+6zfMQWuxK8p1Q9Piv3dIw06urTdrJdPT6OeoxCjf6dlI5LdL4fB1plCMly1HGinNPmmhPbOuxLsVeEto6LUzn1BZqH6piSY5bdjqv9Es37o9LLcxpfZRYpNw5nmyWxu4oHVDtdCb7qqXS7aTwOzyB4WGdsEBqm8s2IZdb2jPJrxk3FAe2b5hXQEOeaXJeTL4kTlWbHFrgf1PVqdPDf4cNKLKxzv+b3KHu7JUm2SCYUAdq01dLpVLHOKk0jqyTJ9uoVRSmBqupLk2kA57AmF+/m/1SNZXd9JmqJK7TgnaeiYy4hK4XOkRtcqRj2fTA5V7o7DIIud6VUn+It+NcX+fIDrVAanbfkybfL6W8NHniX027W6gda6X+AE9g8IEgbp9a7IpyOeh6e7c0qXLKymStWhqWM7H+SXmSOBNtcqRmOcpYcabHpJbtpVLtB6nbWgtK2yeZ3BFLCJWEEGKhRMMGbFiXj6Ln58VoY0u55nqY7wcxcRkw58fjJPmVPXB9bINJHW/+a/ZjA3SqNReL/c7cjGBmbtmtR8XpIIK/KUMOT0mbJzIlb/Dkb4z9RhxNcsxGEQl64TptR11pMdov8fQE9NAX0tu1KUwpCemZDSN4kZa5epIr93Fszopi4kp8KRS91AnHyAbsbapA/jUf2DZUvA75sJ50wdVkSliiPsTCKI8ocU8ZOawyhZA66lFsQzDoR6ORX697SH6buqWSfJ0JtmAQ/gYlUzQSIY2bk+xRaJQjGkHgkgunjtShbGs7vDw5hjY9ROA5EVs2F6J4tx2u+aGpdbkwFFPvvDm1pKXoaiJEumbtuoFUnV9oljcoA3N9O4KBd9oRKLGjviSK4ATlLTEgppbsEhu1Yxcq1OEsakfWhNkqw9JiV3LDfx1B5A6/JvQv91Hf6UGZnIn6+jV6+9Hj8d/haJUjet0P91A7GvZYUDeUGL/TXMbVAdhjYbotVE63V1WvFSbbDNvHLnS9nM8TGGRvTPwslX1oQL+xiH4GMZXkDIN2x82djv6HZFiktnyjOkYbhbvLDrehEQd3kEqDPoxSaoLj5DHVqljch712O+kLI+L+3YhdxyugO1kF4z+QQo6cgjs4f/tPQ56vw2CmkBQNckTO1GHbG70I6Eh+f2RRhyA7q8thfKNcpudmSJbL8IMN7Kc8+Hn8QaX82QAGWp2YKrWhfosOkSsTCx3nLRYTrpqL/7FXeTelG/PnDDnHchCNWzyw/4Q5uga0D3kRml+BHAsOHjLCc8QsxzobOgbgDSdmmomkOGyWVg5yNrXb0PRhADqqqu9WkhZMqwd2oqUKNV+Z0PEpOZirF3HyH0No+pfOeefJuVGEp5a+UbxKCAc9NJDnYAPVI+eJzeRSPQgwB0koJ7Ty0XiogqwuCN95SlQ7ztkZ+Fk8lSYYsiNjr602GvT1ZH+xo3pa7Ipy7epAhc6JKiPbF7Hj1PnAPIf4DcI0IUuKFjkuOWB8pQ3uKNV1emF8XVMZt1yo29kD7B+E9yr1i9/bsGGwHE2r6Dz5jJ/tE5TxvRv2KobtAvnOJ/RY0uFJeSLjQzjJBqV2x82djvExxTQNbGZweQKy/v1OOE4D1sN7UUjOLEKOO6p2Ouws8E+LUeN6CJYjg7h4yQsvvXr20He5+dCraqN/yYFR7yj6mnZhw61OOcBvafUmKFlLnqRolCNnRw+8Qx1oLP8xdZllJBwkk4x1wmwYNtOIekE5/jUzSrNtrxG2f7PIyg1fkefbePxReiOi1OktW2vg0llg778oy+291AMrfZfQIbIKUd/vx8WPW1H/FDDeWg7zlpp5Rxd1KKwdgv9PI2itexr4kwPlJUZNZ9O1yZGDCpoFDb3TiIriJC2oSQ9+jJ0MYW+tFYXfp8t12SjcbUVFeAJ/TjIDyVz4SjY26BmKyHJ8tBIjw4qd0Kq0YS9b3d2ahO+uaiUr36dQjNKjPhTtP4lR3o4jzWz7Uj0h0mgzuRY4/suL0fdt2JUTQucBC4w/daQ/bqlVDqON+lwP7JUvwvAIT4uhsYyIZxhuUz3qn9dDxyZOj5pRVVWEUd/ix5O/S9j59uLSZviK9uLk75U6eEfs8oZyzHcyAr1lMB8bwMCRcnkj2FjeubRjrTxkkpZ78maaakNyaliqluORU1L/q4lxLzlWporDKXHXWmk4YYNhShrelxj3uXd7WppWB06JqY9q6XdLpV4e99KSZ7H4rFY54iixwcU2vuR45PZeSR3NSoUSn1TFrCbapAIWP7xGf+e5PKnEMcHjxvPblF+/NpwYT5d1oIr/3aO2uT2vce5PSG1Udt4vx5Sy79+jPNPSvXmbSxPtJSRbszTGf336DwfoWrUJJqNRDjVfsPhtvC8wlq4Hjhybj8uowOOHsfplGnyTOx6jV9qB7TUo7aTSgdyWqv5I1wXMJr/i15yJdrahF99v0GQzdyjPgkzDUi39vdL3Yz3cJ51gfUm1dyWjUY44Sj9K2INachlxJhwFKhlXELK1lidJl7+at98i27l674ZvPL7QJA1foTa/Tzp/Lck+jbz3odKRCs0z7tD1CfqpGj1z8rE5Nwr3sVrVUo6hnEnF80Vzy3fl5gI9cuamhcT1cximZZ+ugNLlBC86nzOiuCMxGpqd/TD7yeOeWvIQNGtjkdrAtcSpmTY5tBJBiA3yGzeABT7SE6W/T2sW9QqDZlcWWgj2HjwG5+0y2H4Wu8lFudFJtym2JOY3Pj2aE59ZE6FPaPZBv1HEQ1KRsw0wbqnDwC35krMe2WzGSo0jl317FA1bjKg7k9g26x9mJVMeeXlGrbmR5KTSgwkzdW1ypOPB9KCE48LUz8wxPcv8tyqEl4GEQ5Ata242poQhoxeOofaoG/mHDqKCr7oi11hg0oyix+LXUbKyHKbfGDMenPuY5tGmWNhKm814f10MI9uLUIdG/jYbcq6/ibVsLslGb1cnqffH0SZHah64jOApHDttQX2pOqa8QkQm5aOTuT9YzxOI2Rl4zrqobibVCohWWV8Be99yoOxH1LbrcmAqMSM0nRgziISZvg3y3sd8NDruJE6HxWhLAJ+XOkRsKSfDnY7KAAuftZJROWF/8xTcn7sx0ErLiX+yk7GTTvSx2hjxYl0+ot1NsJ12w/O5B+4hByoPDEBXasWLcjYteYhsAzZvAtxXWMXjaJNDI1Ef/FRP87Ob55yYcjsyLS35dSKKstTx6JicXmpD4y/qYYl1Wn53pWljLGchzHtIwSftSr3PD8CxvxiWI7LkyOU36OSYK1CW5Yb99Xa4qG08n7vgfK0ejss0sO5gizU5EypKdXAfrUX7CMvjgau7DvXHfOQktsMkb24S8pKd9BtQh0+0yZGOpeshCv97lWi4ZYdz/1xHUwj+GR4qzfJMLJ0/bqE1uRYYgV5anm6xpX5+zdVTKKcBzvZJitjpDLX1ViPKulPdAOSVH3FQM28jLkY0HIRvLnymoIQhaYkNK2x74vWVB7ysIrC9bQZ7/IKRam8/qOjbxc7l/6RKueM2L2Z/2mzGaKlH/l0nmmSdUL9gun2VJgFZZbBaYuGuWHgvqNo81SpHah6ojPAobLV9ePq3rXHbWcAM3EdoUCpN/awdLX0ibZ5HTTDTwOY51qDY1gi716EEVSeZDZHvjFUiSj7yshmGjfyaYLot+juVw6c+7/uK9F1iwmb1BIej0XEncTpkLIZCcgZZZrTWqQ7jhyflWHjc6VDOZ21wHbdi/Xk7avY0oOf6ZnT8ziE7BjWF+wcxctyEya46VO2pQl3Hl9D/vA8X2pS4r9Y8rJHMu6gFP3QnzCC0yqGJyx4MUFczP6OlWxKysmhmmLBBkY/8Z+jNUI/Du1UzBvlGJ/UMVgfTIRccletx7kgNqt7oQeipDgwdnyf59y3o+LQP9Y+MopnapmpPMwapdh0jg6ifs/9sWNouoO9nGzB6lOWpQvMgDUDvjmBQ7RR1JljISXs+8ahmVxrlSMNS9RAaqkP5madxMsmjCyJeN3xZNAunAVAz9/+CaHSKXvw6KVH8hTJM3UmZicqYQfR/opT7wViwkiV0hkIaBnUwv1UP89ypmxAm2cagevb5mBXvnW6EKUwOYk8NWj57GBW/60G9+qQOoclmCusxOOKA6Von6ljfOdCOL/WN6Pu0I8Ep5pfsImnJuavHRY1ypGSpZbB9kuoGTO13wpbuDs7ZKGaYnu7z62Ro6RNp8+hhfa8PjaYwnAeqUNN6Dg+/PIie1+bJJ6+y4vtXbLLBohSbH1PtB8364TlDPeN5U/JBi4dM1h7yjSjK2dcHZ7EYt3JDhPrGBIYc837uhJTBJ4oTkc8P70waY9NMkhj3Upj2tEjbXmiRxhOC6pz7k/KNVgk3/qy2c938HPLSbr5YzSj3GhR8qz2FJDHupXD/htS/7++l6iQ3h2UELHbN7ofhl4qfSbyhke0pFqS48Uj7qZJMg2afjc0mDBzrhPdBp0OLwU7RnDHBfkg1Y6ERcuITGiH3l2HeYj5zKdyL1n3fwHHclRDT/K5gJ1h27Qug5qQNpvgyZQ75JM4MyagKJ8A/gVGaE9a8tDq0MEMrAk+WFRXPJ6lARkIrtkN2mM440LnshqUB/sTPnryT6Hp5Wc98fWfI5/bVDwmLhBBQr7rk00QDMDU3LhoCWruOm9DvsMO+0Ymm425EUsS3lkTEDfsBJwxv2ROejBYNBxDeuBeHd2RmZ0qODsaft8J6rQlNvUnO3f6fEsFwlxOBu27Y+ONt517sGNvVU2g4EsTeFvVDxKJkFGHk7juMCr6Bt7LMIHh9BpbmGpjSrOYzitwK2Jtz4XzDAfd3PaJ7+2A7H0Wguzx+1lt+1czblF+9sHP7CQ8JI9/hie0fzkbgPtYA5xOtsKfwJd9j027+eW1CI/TokT7gkC3FBoZ22D9SaNfVwfHSWnLQaWD/SOHNcfy4TTmnvxpg/0jhy5Iu7N20ljxiZsH+kQK5UdheWiuriVUA+0cKv9Kh7i1Lyidyrn3HLRAIBGuMNR0qEQgEgrWIcNwCgUCQYQjHLRAIBBmGcNwCgUCQUQD/C6rcm497Fi2IAAAAAElFTkSuQmCC)"
      ],
      "metadata": {
        "id": "bDilYfeYRsE0"
      }
    },
    {
      "cell_type": "markdown",
      "source": [
        "Another scoring approach, called the shared peaks count, simply counts the number of “tall” peaks annotated by a peptide, i.e., the annotated peaks with intensities exceeding a predefined threshold. Taking the intensity threshold 5 in our ongoing example, the shared peak count is 4, since the prefixes of XZZXX annotate the tall peaks with intensities 100, 500, and 9, and the suffixes annotate the tall peak with intensity 8. The first candidate peptide for DinosaurSpectrum (reproduced below) has shared peak count equal to 10, whereas the second candidate peptide has shared peak count equal to 6.\n",
        "\n"
      ],
      "metadata": {
        "id": "O7C_KK6YdBBm"
      }
    },
    {
      "cell_type": "markdown",
      "source": [
        "*To achieve this goal, we will convert peptides and spectra into vectors, then define a scoring function that is the dot product of these vectors.*"
      ],
      "metadata": {
        "id": "6atpRjE2dhWu"
      }
    },
    {
      "cell_type": "markdown",
      "source": [
        "First, given an amino acid string Peptide = a1 . . . an of length n, we will represent its prefix masses using a binary peptide vector Peptide' with Mass(Peptide) coordinates. This vector contains a 1 at each of the n prefix coordinates"
      ],
      "metadata": {
        "id": "5PE3fao5dr1_"
      }
    },
    {
      "cell_type": "markdown",
      "source": [
        "Converting a Peptide into a Peptide Vector Problem: Convert a peptide into a peptide vector.\n",
        "\n",
        "- Input: An amino acid string Peptide.\n",
        "- Output: The peptide vector Peptide'.\n",
        "\n",
        "Code Challenge: Solve the Converting a Peptide into a Peptide Vector Problem.\n",
        "\n",
        "- Input: An amino acid string P.\n",
        "- Output: The peptide vector of P (in the form of space-separated integers)."
      ],
      "metadata": {
        "id": "WnHSwCt0R0WP"
      }
    },
    {
      "cell_type": "markdown",
      "source": [
        "![image.png](data:image/png;base64,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)"
      ],
      "metadata": {
        "id": "_XNFK04BhNvK"
      }
    },
    {
      "cell_type": "code",
      "source": [
        "_amino_acid_by_mass_ = {4:\"X\", 5:\"Z\", 57:\"G\", 71:\"A\", 87:\"S\", 97:\"P\", 99:\"V\", 101:\"T\", 103:\"C\", 113:\"L\", 114:\"N\", 115:\"D\", 128:\"Q\", 129:\"E\", 131:\"M\", 137:\"H\", 147:\"F\", 156:\"R\", 163:\"Y\", 186:\"W\"}\n",
        "\n",
        "_mass_by_amino_acid_ = {\"X\":4, \"Z\":5, \"G\":57, \"A\":71, \"S\":87, \"P\":97, \"V\":99, \"T\":101, \"C\":103, \"L\":113, \"N\":114, \"D\":115, \"Q\":128, \"E\":129, \"M\":131, \"H\":137, \"F\":147, \"R\":156, \"Y\":163, \"W\":186, \"I\":113, \"K\":128}"
      ],
      "metadata": {
        "id": "FoyaGM8UR0C1"
      },
      "execution_count": 8,
      "outputs": []
    },
    {
      "cell_type": "code",
      "source": [
        "import numpy as np\n",
        "peptide = 'VTTQNGSVYDASERWLDWFWIGNGACGVRQIPHDNYTV'\n",
        "\n",
        "def peptide_vector(peptide, amino_acid_by_mass):\n",
        "  pre_peptide = []\n",
        "  current_mass = 0\n",
        "  for amino_acid in peptide:\n",
        "      if amino_acid in amino_acid_by_mass:\n",
        "          current_mass += (amino_acid_by_mass[amino_acid])\n",
        "          pre_peptide.append(current_mass)\n",
        "  peptide_mass = sum([amino_acid_by_mass[aa] for aa in peptide])\n",
        "\n",
        "  pep_vector = np.zeros(peptide_mass)\n",
        "\n",
        "  for mass in pre_peptide:\n",
        "    pep_vector[mass-1] = 1\n",
        "  return pep_vector\n",
        "\n",
        "\n",
        "vector = peptide_vector(peptide, _mass_by_amino_acid_)\n",
        "print(' '.join(map(str, vector.astype(int))))\n"
      ],
      "metadata": {
        "id": "dvR0tAYENEfz",
        "colab": {
          "base_uri": "https://localhost:8080/"
        },
        "outputId": "7da27172-3d6f-4786-c157-f22d06813b8d"
      },
      "execution_count": 16,
      "outputs": [
        {
          "output_type": "stream",
          "name": "stdout",
          "text": [
            "0 0 0 0 0 0 0 0 0 0 0 0 0 0 0 0 0 0 0 0 0 0 0 0 0 0 0 0 0 0 0 0 0 0 0 0 0 0 0 0 0 0 0 0 0 0 0 0 0 0 0 0 0 0 0 0 0 0 0 0 0 0 0 0 0 0 0 0 0 0 0 0 0 0 0 0 0 0 0 0 0 0 0 0 0 0 0 0 0 0 0 0 0 0 0 0 0 0 1 0 0 0 0 0 0 0 0 0 0 0 0 0 0 0 0 0 0 0 0 0 0 0 0 0 0 0 0 0 0 0 0 0 0 0 0 0 0 0 0 0 0 0 0 0 0 0 0 0 0 0 0 0 0 0 0 0 0 0 0 0 0 0 0 0 0 0 0 0 0 0 0 0 0 0 0 0 0 0 0 0 0 0 0 0 0 0 0 0 0 0 0 0 0 0 0 0 0 0 0 1 0 0 0 0 0 0 0 0 0 0 0 0 0 0 0 0 0 0 0 0 0 0 0 0 0 0 0 0 0 0 0 0 0 0 0 0 0 0 0 0 0 0 0 0 0 0 0 0 0 0 0 0 0 0 0 0 0 0 0 0 0 0 0 0 0 0 0 0 0 0 0 0 0 0 0 0 0 0 0 0 0 0 0 0 0 0 0 0 0 0 0 0 0 0 0 0 0 0 0 0 1 0 0 0 0 0 0 0 0 0 0 0 0 0 0 0 0 0 0 0 0 0 0 0 0 0 0 0 0 0 0 0 0 0 0 0 0 0 0 0 0 0 0 0 0 0 0 0 0 0 0 0 0 0 0 0 0 0 0 0 0 0 0 0 0 0 0 0 0 0 0 0 0 0 0 0 0 0 0 0 0 0 0 0 0 0 0 0 0 0 0 0 0 0 0 0 0 0 0 0 0 0 0 0 0 0 0 0 0 0 0 0 0 0 0 0 0 0 0 0 0 0 0 0 0 0 0 0 1 0 0 0 0 0 0 0 0 0 0 0 0 0 0 0 0 0 0 0 0 0 0 0 0 0 0 0 0 0 0 0 0 0 0 0 0 0 0 0 0 0 0 0 0 0 0 0 0 0 0 0 0 0 0 0 0 0 0 0 0 0 0 0 0 0 0 0 0 0 0 0 0 0 0 0 0 0 0 0 0 0 0 0 0 0 0 0 0 0 0 0 0 0 0 0 0 0 0 0 0 0 0 0 0 0 0 0 0 0 0 0 0 0 1 0 0 0 0 0 0 0 0 0 0 0 0 0 0 0 0 0 0 0 0 0 0 0 0 0 0 0 0 0 0 0 0 0 0 0 0 0 0 0 0 0 0 0 0 0 0 0 0 0 0 0 0 0 0 0 0 1 0 0 0 0 0 0 0 0 0 0 0 0 0 0 0 0 0 0 0 0 0 0 0 0 0 0 0 0 0 0 0 0 0 0 0 0 0 0 0 0 0 0 0 0 0 0 0 0 0 0 0 0 0 0 0 0 0 0 0 0 0 0 0 0 0 0 0 0 0 0 0 0 0 0 0 0 0 0 0 0 0 0 0 0 0 0 1 0 0 0 0 0 0 0 0 0 0 0 0 0 0 0 0 0 0 0 0 0 0 0 0 0 0 0 0 0 0 0 0 0 0 0 0 0 0 0 0 0 0 0 0 0 0 0 0 0 0 0 0 0 0 0 0 0 0 0 0 0 0 0 0 0 0 0 0 0 0 0 0 0 0 0 0 0 0 0 0 0 0 0 0 0 0 0 0 0 0 0 0 0 0 0 0 0 0 1 0 0 0 0 0 0 0 0 0 0 0 0 0 0 0 0 0 0 0 0 0 0 0 0 0 0 0 0 0 0 0 0 0 0 0 0 0 0 0 0 0 0 0 0 0 0 0 0 0 0 0 0 0 0 0 0 0 0 0 0 0 0 0 0 0 0 0 0 0 0 0 0 0 0 0 0 0 0 0 0 0 0 0 0 0 0 0 0 0 0 0 0 0 0 0 0 0 0 0 0 0 0 0 0 0 0 0 0 0 0 0 0 0 0 0 0 0 0 0 0 0 0 0 0 0 0 0 0 0 0 0 0 0 0 0 0 0 0 0 0 0 0 0 0 0 0 0 0 0 0 0 0 0 0 0 0 0 0 0 0 0 0 1 0 0 0 0 0 0 0 0 0 0 0 0 0 0 0 0 0 0 0 0 0 0 0 0 0 0 0 0 0 0 0 0 0 0 0 0 0 0 0 0 0 0 0 0 0 0 0 0 0 0 0 0 0 0 0 0 0 0 0 0 0 0 0 0 0 0 0 0 0 0 0 0 0 0 0 0 0 0 0 0 0 0 0 0 0 0 0 0 0 0 0 0 0 0 0 0 0 0 0 0 0 0 0 0 0 0 0 0 0 0 0 0 0 0 1 0 0 0 0 0 0 0 0 0 0 0 0 0 0 0 0 0 0 0 0 0 0 0 0 0 0 0 0 0 0 0 0 0 0 0 0 0 0 0 0 0 0 0 0 0 0 0 0 0 0 0 0 0 0 0 0 0 0 0 0 0 0 0 0 0 0 0 0 0 0 1 0 0 0 0 0 0 0 0 0 0 0 0 0 0 0 0 0 0 0 0 0 0 0 0 0 0 0 0 0 0 0 0 0 0 0 0 0 0 0 0 0 0 0 0 0 0 0 0 0 0 0 0 0 0 0 0 0 0 0 0 0 0 0 0 0 0 0 0 0 0 0 0 0 0 0 0 0 0 0 0 0 0 0 0 0 0 1 0 0 0 0 0 0 0 0 0 0 0 0 0 0 0 0 0 0 0 0 0 0 0 0 0 0 0 0 0 0 0 0 0 0 0 0 0 0 0 0 0 0 0 0 0 0 0 0 0 0 0 0 0 0 0 0 0 0 0 0 0 0 0 0 0 0 0 0 0 0 0 0 0 0 0 0 0 0 0 0 0 0 0 0 0 0 0 0 0 0 0 0 0 0 0 0 0 0 0 0 0 0 0 0 0 0 0 0 0 0 0 0 0 0 0 0 0 0 0 0 0 0 0 0 0 0 0 0 1 0 0 0 0 0 0 0 0 0 0 0 0 0 0 0 0 0 0 0 0 0 0 0 0 0 0 0 0 0 0 0 0 0 0 0 0 0 0 0 0 0 0 0 0 0 0 0 0 0 0 0 0 0 0 0 0 0 0 0 0 0 0 0 0 0 0 0 0 0 0 0 0 0 0 0 0 0 0 0 0 0 0 0 0 0 0 0 0 0 0 0 0 0 0 0 0 0 0 0 0 0 0 0 0 0 0 0 0 0 0 0 0 0 0 0 0 0 0 0 0 0 0 0 0 0 0 0 0 0 0 0 0 0 0 0 0 0 0 0 0 0 0 0 0 0 0 0 0 0 0 0 0 0 0 0 1 0 0 0 0 0 0 0 0 0 0 0 0 0 0 0 0 0 0 0 0 0 0 0 0 0 0 0 0 0 0 0 0 0 0 0 0 0 0 0 0 0 0 0 0 0 0 0 0 0 0 0 0 0 0 0 0 0 0 0 0 0 0 0 0 0 0 0 0 0 0 0 0 0 0 0 0 0 0 0 0 0 0 0 0 0 0 0 0 0 0 0 0 0 0 0 0 0 0 0 0 0 0 0 0 0 0 0 0 0 0 0 0 0 0 0 0 0 0 0 0 0 0 0 0 0 0 0 0 0 0 0 0 0 0 0 0 0 0 0 0 0 0 0 0 0 0 0 0 0 0 0 0 0 0 0 0 0 0 0 0 0 0 0 0 0 0 0 0 0 0 0 0 0 0 0 0 0 0 0 0 0 0 0 0 0 1 0 0 0 0 0 0 0 0 0 0 0 0 0 0 0 0 0 0 0 0 0 0 0 0 0 0 0 0 0 0 0 0 0 0 0 0 0 0 0 0 0 0 0 0 0 0 0 0 0 0 0 0 0 0 0 0 0 0 0 0 0 0 0 0 0 0 0 0 0 0 0 0 0 0 0 0 0 0 0 0 0 0 0 0 0 0 0 0 0 0 0 0 0 0 0 0 0 0 0 0 0 0 0 0 0 0 0 0 0 0 0 0 1 0 0 0 0 0 0 0 0 0 0 0 0 0 0 0 0 0 0 0 0 0 0 0 0 0 0 0 0 0 0 0 0 0 0 0 0 0 0 0 0 0 0 0 0 0 0 0 0 0 0 0 0 0 0 0 0 0 0 0 0 0 0 0 0 0 0 0 0 0 0 0 0 0 0 0 0 0 0 0 0 0 0 0 0 0 0 0 0 0 0 0 0 0 0 0 0 0 0 0 0 0 0 0 0 0 0 0 0 0 0 0 0 0 0 1 0 0 0 0 0 0 0 0 0 0 0 0 0 0 0 0 0 0 0 0 0 0 0 0 0 0 0 0 0 0 0 0 0 0 0 0 0 0 0 0 0 0 0 0 0 0 0 0 0 0 0 0 0 0 0 0 0 0 0 0 0 0 0 0 0 0 0 0 0 0 0 0 0 0 0 0 0 0 0 0 0 0 0 0 0 0 0 0 0 0 0 0 0 0 0 0 0 0 0 0 0 0 0 0 0 0 0 0 0 0 0 0 0 0 0 0 0 0 0 0 0 0 0 0 0 0 0 0 0 0 0 0 0 0 0 0 0 0 0 0 0 0 0 0 0 0 0 0 0 0 0 0 0 0 0 0 0 0 0 0 0 0 0 0 0 0 0 0 0 0 0 0 0 0 0 0 0 0 0 0 0 0 0 0 0 1 0 0 0 0 0 0 0 0 0 0 0 0 0 0 0 0 0 0 0 0 0 0 0 0 0 0 0 0 0 0 0 0 0 0 0 0 0 0 0 0 0 0 0 0 0 0 0 0 0 0 0 0 0 0 0 0 0 0 0 0 0 0 0 0 0 0 0 0 0 0 0 0 0 0 0 0 0 0 0 0 0 0 0 0 0 0 0 0 0 0 0 0 0 0 0 0 0 0 0 0 0 0 0 0 0 0 0 0 0 0 0 0 0 0 0 0 0 0 0 0 0 0 0 0 0 0 0 0 0 0 0 0 0 0 0 0 0 0 0 0 0 0 0 0 0 0 1 0 0 0 0 0 0 0 0 0 0 0 0 0 0 0 0 0 0 0 0 0 0 0 0 0 0 0 0 0 0 0 0 0 0 0 0 0 0 0 0 0 0 0 0 0 0 0 0 0 0 0 0 0 0 0 0 0 0 0 0 0 0 0 0 0 0 0 0 0 0 0 0 0 0 0 0 0 0 0 0 0 0 0 0 0 0 0 0 0 0 0 0 0 0 0 0 0 0 0 0 0 0 0 0 0 0 0 0 0 0 0 0 0 0 0 0 0 0 0 0 0 0 0 0 0 0 0 0 0 0 0 0 0 0 0 0 0 0 0 0 0 0 0 0 0 0 0 0 0 0 0 0 0 0 0 0 0 0 0 0 0 0 0 0 0 0 0 0 0 0 0 0 0 0 0 0 0 0 0 0 0 0 0 0 0 1 0 0 0 0 0 0 0 0 0 0 0 0 0 0 0 0 0 0 0 0 0 0 0 0 0 0 0 0 0 0 0 0 0 0 0 0 0 0 0 0 0 0 0 0 0 0 0 0 0 0 0 0 0 0 0 0 0 0 0 0 0 0 0 0 0 0 0 0 0 0 0 0 0 0 0 0 0 0 0 0 0 0 0 0 0 0 0 0 0 0 0 0 0 0 0 0 0 0 0 0 0 0 0 0 0 0 0 0 0 0 0 0 1 0 0 0 0 0 0 0 0 0 0 0 0 0 0 0 0 0 0 0 0 0 0 0 0 0 0 0 0 0 0 0 0 0 0 0 0 0 0 0 0 0 0 0 0 0 0 0 0 0 0 0 0 0 0 0 0 1 0 0 0 0 0 0 0 0 0 0 0 0 0 0 0 0 0 0 0 0 0 0 0 0 0 0 0 0 0 0 0 0 0 0 0 0 0 0 0 0 0 0 0 0 0 0 0 0 0 0 0 0 0 0 0 0 0 0 0 0 0 0 0 0 0 0 0 0 0 0 0 0 0 0 0 0 0 0 0 0 0 0 0 0 0 0 0 0 0 0 0 0 0 0 0 0 0 0 0 0 0 0 0 0 0 0 0 0 0 0 0 0 0 1 0 0 0 0 0 0 0 0 0 0 0 0 0 0 0 0 0 0 0 0 0 0 0 0 0 0 0 0 0 0 0 0 0 0 0 0 0 0 0 0 0 0 0 0 0 0 0 0 0 0 0 0 0 0 0 0 1 0 0 0 0 0 0 0 0 0 0 0 0 0 0 0 0 0 0 0 0 0 0 0 0 0 0 0 0 0 0 0 0 0 0 0 0 0 0 0 0 0 0 0 0 0 0 0 0 0 0 0 0 0 0 0 0 0 0 0 0 0 0 0 0 0 0 0 0 0 0 1 0 0 0 0 0 0 0 0 0 0 0 0 0 0 0 0 0 0 0 0 0 0 0 0 0 0 0 0 0 0 0 0 0 0 0 0 0 0 0 0 0 0 0 0 0 0 0 0 0 0 0 0 0 0 0 0 0 0 0 0 0 0 0 0 0 0 0 0 0 0 0 0 0 0 0 0 0 0 0 0 0 0 0 0 0 0 0 0 0 0 0 0 0 0 0 0 0 0 0 0 0 0 1 0 0 0 0 0 0 0 0 0 0 0 0 0 0 0 0 0 0 0 0 0 0 0 0 0 0 0 0 0 0 0 0 0 0 0 0 0 0 0 0 0 0 0 0 0 0 0 0 0 0 0 0 0 0 0 0 1 0 0 0 0 0 0 0 0 0 0 0 0 0 0 0 0 0 0 0 0 0 0 0 0 0 0 0 0 0 0 0 0 0 0 0 0 0 0 0 0 0 0 0 0 0 0 0 0 0 0 0 0 0 0 0 0 0 0 0 0 0 0 0 0 0 0 0 0 0 0 0 0 0 0 0 0 0 0 0 0 0 0 0 0 0 0 0 0 0 0 0 0 0 0 0 0 0 0 1 0 0 0 0 0 0 0 0 0 0 0 0 0 0 0 0 0 0 0 0 0 0 0 0 0 0 0 0 0 0 0 0 0 0 0 0 0 0 0 0 0 0 0 0 0 0 0 0 0 0 0 0 0 0 0 0 0 0 0 0 0 0 0 0 0 0 0 0 0 0 0 0 0 0 0 0 0 0 0 0 0 0 0 0 0 0 0 0 0 0 0 0 0 0 0 0 0 0 0 0 0 0 0 0 0 0 0 0 0 0 0 0 0 0 0 0 0 0 0 0 0 0 0 0 0 0 0 0 0 0 0 0 0 0 0 0 0 0 0 0 0 0 0 0 0 0 0 0 0 0 0 0 0 0 0 1 0 0 0 0 0 0 0 0 0 0 0 0 0 0 0 0 0 0 0 0 0 0 0 0 0 0 0 0 0 0 0 0 0 0 0 0 0 0 0 0 0 0 0 0 0 0 0 0 0 0 0 0 0 0 0 0 0 0 0 0 0 0 0 0 0 0 0 0 0 0 0 0 0 0 0 0 0 0 0 0 0 0 0 0 0 0 0 0 0 0 0 0 0 0 0 0 0 0 0 0 0 0 0 0 0 0 0 0 0 0 0 0 0 0 0 0 0 0 0 0 0 0 0 0 0 0 0 1 0 0 0 0 0 0 0 0 0 0 0 0 0 0 0 0 0 0 0 0 0 0 0 0 0 0 0 0 0 0 0 0 0 0 0 0 0 0 0 0 0 0 0 0 0 0 0 0 0 0 0 0 0 0 0 0 0 0 0 0 0 0 0 0 0 0 0 0 0 0 0 0 0 0 0 0 0 0 0 0 0 0 0 0 0 0 0 0 0 0 0 0 0 0 0 0 0 0 0 0 0 0 0 0 0 0 0 0 0 0 0 0 1 0 0 0 0 0 0 0 0 0 0 0 0 0 0 0 0 0 0 0 0 0 0 0 0 0 0 0 0 0 0 0 0 0 0 0 0 0 0 0 0 0 0 0 0 0 0 0 0 0 0 0 0 0 0 0 0 0 0 0 0 0 0 0 0 0 0 0 0 0 0 0 0 0 0 0 0 0 0 0 0 0 0 0 0 0 0 0 0 0 0 0 0 0 0 0 0 1 0 0 0 0 0 0 0 0 0 0 0 0 0 0 0 0 0 0 0 0 0 0 0 0 0 0 0 0 0 0 0 0 0 0 0 0 0 0 0 0 0 0 0 0 0 0 0 0 0 0 0 0 0 0 0 0 0 0 0 0 0 0 0 0 0 0 0 0 0 0 0 0 0 0 0 0 0 0 0 0 0 0 0 0 0 0 0 0 0 0 0 0 0 0 0 0 0 0 0 0 0 0 0 0 0 0 0 0 0 0 0 0 0 0 0 0 0 0 0 0 0 0 0 0 0 0 0 0 0 0 0 0 0 0 0 0 1 0 0 0 0 0 0 0 0 0 0 0 0 0 0 0 0 0 0 0 0 0 0 0 0 0 0 0 0 0 0 0 0 0 0 0 0 0 0 0 0 0 0 0 0 0 0 0 0 0 0 0 0 0 0 0 0 0 0 0 0 0 0 0 0 0 0 0 0 0 0 0 0 0 0 0 0 0 0 0 0 0 0 0 0 0 0 0 0 0 0 0 0 0 0 0 0 0 0 0 0 0 0 0 0 0 0 0 0 0 0 0 0 0 0 1 0 0 0 0 0 0 0 0 0 0 0 0 0 0 0 0 0 0 0 0 0 0 0 0 0 0 0 0 0 0 0 0 0 0 0 0 0 0 0 0 0 0 0 0 0 0 0 0 0 0 0 0 0 0 0 0 0 0 0 0 0 0 0 0 0 0 0 0 0 0 0 0 0 0 0 0 0 0 0 0 0 0 0 0 0 0 0 0 0 0 0 0 0 0 0 0 0 0 0 0 0 0 0 0 0 0 0 0 0 0 0 0 0 1 0 0 0 0 0 0 0 0 0 0 0 0 0 0 0 0 0 0 0 0 0 0 0 0 0 0 0 0 0 0 0 0 0 0 0 0 0 0 0 0 0 0 0 0 0 0 0 0 0 0 0 0 0 0 0 0 0 0 0 0 0 0 0 0 0 0 0 0 0 0 0 0 0 0 0 0 0 0 0 0 0 0 0 0 0 0 0 0 0 0 0 0 0 0 0 0 0 0 0 0 0 0 0 0 0 0 0 0 0 0 0 0 0 0 0 0 0 0 0 0 0 0 0 0 0 0 0 0 0 0 0 0 0 0 0 0 0 0 0 0 0 0 0 0 0 0 0 0 0 0 0 0 0 0 0 0 0 0 0 0 0 0 1 0 0 0 0 0 0 0 0 0 0 0 0 0 0 0 0 0 0 0 0 0 0 0 0 0 0 0 0 0 0 0 0 0 0 0 0 0 0 0 0 0 0 0 0 0 0 0 0 0 0 0 0 0 0 0 0 0 0 0 0 0 0 0 0 0 0 0 0 0 0 0 0 0 0 0 0 0 0 0 0 0 0 0 0 0 0 0 0 0 0 0 0 0 0 0 0 0 0 0 0 1 0 0 0 0 0 0 0 0 0 0 0 0 0 0 0 0 0 0 0 0 0 0 0 0 0 0 0 0 0 0 0 0 0 0 0 0 0 0 0 0 0 0 0 0 0 0 0 0 0 0 0 0 0 0 0 0 0 0 0 0 0 0 0 0 0 0 0 0 0 0 0 0 0 0 0 0 0 0 0 0 0 0 0 0 0 0 0 0 0 0 0 0 0 0 0 0 0 0 1\n"
          ]
        }
      ]
    },
    {
      "cell_type": "code",
      "source": [
        "def peptide_from_vector(peptide_vector):\n",
        "    # Split input string into a list of integers\n",
        "    binary_vector = list(map(int, peptide_vector.split()))\n",
        "\n",
        "    # Identify the prefix masses based on the binary vector\n",
        "    prefix_masses = []\n",
        "    for i, value in enumerate(binary_vector):\n",
        "        if value == 1:\n",
        "            prefix_masses.append(i + 1)  # Use i + 1 for mass (1-based index)\n",
        "\n",
        "    # Reconstruct the peptide from prefix masses\n",
        "    peptide = []\n",
        "    current_mass = 0\n",
        "\n",
        "    for mass in prefix_masses:\n",
        "        # Calculate the mass of the next amino acid to add\n",
        "        amino_acid_mass = mass - current_mass\n",
        "        if amino_acid_mass in _amino_acid_by_mass_:\n",
        "            peptide.append(_amino_acid_by_mass_[amino_acid_mass])\n",
        "            current_mass = mass\n",
        "        else:\n",
        "            return \"No valid peptide found\"  # In case there's no valid amino acid for the mass\n",
        "\n",
        "    return ''.join(peptide)\n",
        "\n",
        "# Sample Input\n",
        "input_vector = \"0 0 0 0 0 0 0 0 0 0 0 0 0 0 0 0 0 0 0 0 0 0 0 0 0 0 0 0 0 0 0 0 0 0 0 0 0 0 0 0 0 0 0 0 0 0 0 0 0 0 0 0 0 0 0 0 0 0 0 0 0 0 0 0 0 0 0 0 0 0 0 0 0 0 0 0 0 0 0 0 0 0 0 0 0 0 0 0 0 0 0 0 0 0 0 0 0 0 0 0 0 0 0 0 0 0 0 0 0 0 0 0 0 1 0 0 0 0 0 0 0 0 0 0 0 0 0 0 0 0 0 0 0 0 0 0 0 0 0 0 0 0 0 0 0 0 0 0 0 0 0 0 0 0 0 0 0 0 0 0 0 0 0 0 0 0 0 0 0 0 0 0 0 0 0 0 0 0 0 0 0 0 0 0 0 0 0 0 0 0 0 0 0 0 0 0 0 0 0 0 0 0 0 0 0 0 0 0 0 0 0 0 0 0 0 0 0 0 0 0 0 0 0 0 0 0 0 0 0 0 0 0 0 0 0 0 0 0 0 0 0 0 1 0 0 0 0 0 0 0 0 0 0 0 0 0 0 0 0 0 0 0 0 0 0 0 0 0 0 0 0 0 0 0 0 0 0 0 0 0 0 0 0 0 0 0 0 0 0 0 0 0 0 0 0 0 0 0 0 0 0 0 0 0 0 0 0 0 0 0 0 0 0 0 0 0 0 0 0 0 0 0 0 0 0 0 0 0 0 0 0 0 0 0 0 0 0 0 0 0 0 0 0 0 0 0 0 0 0 0 0 0 0 0 0 0 0 0 0 0 0 0 0 0 0 0 0 0 0 0 0 0 0 0 0 0 0 0 0 0 0 0 0 0 0 0 0 0 0 0 0 0 0 0 0 0 0 0 0 0 0 0 0 0 0 0 0 0 0 0 0 0 0 0 0 0 0 0 0 0 0 0 0 0 0 0 0 0 1 0 0 0 0 0 0 0 0 0 0 0 0 0 0 0 0 0 0 0 0 0 0 0 0 0 0 0 0 0 0 0 0 0 0 0 0 0 0 0 0 0 0 0 0 0 0 0 0 0 0 0 0 0 0 0 0 0 0 0 0 0 0 0 0 0 0 0 0 0 0 0 0 0 0 0 0 0 0 0 0 0 0 0 0 0 0 0 0 0 0 0 0 0 0 0 0 0 0 0 0 0 0 0 0 0 0 0 0 0 0 0 0 0 0 0 0 0 0 0 0 0 0 0 0 0 0 0 0 1 0 0 0 0 0 0 0 0 0 0 0 0 0 0 0 0 0 0 0 0 0 0 0 0 0 0 0 0 0 0 0 0 0 0 0 0 0 0 0 0 0 0 0 0 0 0 0 0 0 0 0 0 0 0 0 0 0 0 0 0 0 0 0 0 0 0 0 0 0 0 0 0 0 0 0 0 0 0 0 0 0 0 0 0 0 0 0 0 0 0 0 0 0 0 0 0 0 0 0 0 0 0 0 0 0 0 0 0 0 0 0 0 0 0 0 0 0 0 0 0 0 0 0 0 0 0 0 0 0 0 0 0 0 0 0 0 0 0 0 0 0 0 0 0 0 0 0 0 0 0 0 0 0 0 0 0 0 0 0 0 0 0 0 0 0 0 0 0 0 0 0 0 0 0 0 0 0 0 0 0 0 0 0 0 0 1 0 0 0 0 0 0 0 0 0 0 0 0 0 0 0 0 0 0 0 0 0 0 0 0 0 0 0 0 0 0 0 0 0 0 0 0 0 0 0 0 0 0 0 0 0 0 0 0 0 0 0 0 0 0 0 0 0 0 0 0 0 0 0 0 0 0 0 0 0 0 0 0 0 0 0 0 0 0 0 0 0 0 0 0 0 0 0 0 0 0 0 0 0 0 0 0 0 0 0 0 0 0 0 0 0 0 0 0 0 0 0 0 0 0 0 0 0 0 0 0 0 0 0 0 0 0 0 1 0 0 0 0 0 0 0 0 0 0 0 0 0 0 0 0 0 0 0 0 0 0 0 0 0 0 0 0 0 0 0 0 0 0 0 0 0 0 0 0 0 0 0 0 0 0 0 0 0 0 0 0 0 0 0 0 0 0 0 0 0 0 0 0 0 0 0 0 0 0 0 0 0 0 0 0 0 0 0 0 0 0 0 0 0 0 0 0 0 0 0 0 0 0 0 0 0 0 0 0 1 0 0 0 0 0 0 0 0 0 0 0 0 0 0 0 0 0 0 0 0 0 0 0 0 0 0 0 0 0 0 0 0 0 0 0 0 0 0 0 0 0 0 0 0 0 0 0 0 0 0 0 0 0 0 0 0 0 0 0 0 0 0 0 0 0 0 0 0 0 0 0 0 0 0 0 0 0 0 0 0 0 0 0 0 0 0 0 0 0 0 0 0 0 0 0 0 0 0 0 0 0 0 0 0 0 0 0 0 0 0 0 0 0 0 0 0 0 0 0 0 0 0 0 0 0 0 0 0 0 0 0 0 0 0 0 0 0 0 0 0 0 0 0 0 0 0 0 0 0 0 0 0 0 0 0 1 0 0 0 0 0 0 0 0 0 0 0 0 0 0 0 0 0 0 0 0 0 0 0 0 0 0 0 0 0 0 0 0 0 0 0 0 0 0 0 0 0 0 0 0 0 0 0 0 0 0 0 0 0 0 0 0 0 0 0 0 0 0 0 0 0 0 0 0 0 0 0 0 0 0 0 0 0 0 0 0 0 0 0 0 0 0 0 0 0 0 0 0 0 0 0 0 0 0 0 0 1 0 0 0 0 0 0 0 0 0 0 0 0 0 0 0 0 0 0 0 0 0 0 0 0 0 0 0 0 0 0 0 0 0 0 0 0 0 0 0 0 0 0 0 0 0 0 0 0 0 0 0 0 0 0 0 0 0 0 0 0 0 0 0 0 0 0 0 0 0 0 0 0 0 0 0 0 0 0 0 0 0 0 0 0 0 0 1 0 0 0 0 0 0 0 0 0 0 0 0 0 0 0 0 0 0 0 0 0 0 0 0 0 0 0 0 0 0 0 0 0 0 0 0 0 0 0 0 0 0 0 0 0 0 0 0 0 0 0 0 0 0 0 0 0 0 0 0 0 0 0 0 0 0 0 0 0 0 0 0 0 0 0 0 0 0 0 0 0 0 0 0 0 0 0 0 0 0 0 0 0 0 0 0 0 0 0 0 0 0 1 0 0 0 0 0 0 0 0 0 0 0 0 0 0 0 0 0 0 0 0 0 0 0 0 0 0 0 0 0 0 0 0 0 0 0 0 0 0 0 0 0 0 0 0 0 0 0 0 0 0 0 0 0 0 0 0 0 0 0 0 0 0 0 0 0 0 0 0 0 0 0 0 0 0 0 0 0 0 0 0 0 0 0 0 0 0 0 0 0 0 0 0 0 0 0 0 0 0 0 0 0 0 0 0 0 0 0 0 0 0 0 0 0 0 0 0 0 0 0 0 0 0 0 0 0 0 0 0 0 0 0 0 0 0 0 0 0 0 0 0 0 0 0 0 0 0 0 0 0 0 0 0 0 0 0 0 0 0 0 0 0 0 1 0 0 0 0 0 0 0 0 0 0 0 0 0 0 0 0 0 0 0 0 0 0 0 0 0 0 0 0 0 0 0 0 0 0 0 0 0 0 0 0 0 0 0 0 0 0 0 0 0 0 0 0 0 0 0 0 0 0 0 0 0 0 0 0 0 0 0 0 0 0 0 0 0 0 0 0 0 0 0 0 0 0 0 0 0 0 0 0 0 0 0 0 0 0 0 0 0 0 0 0 0 0 0 0 0 0 0 0 0 0 0 0 0 0 0 0 0 0 0 0 0 0 0 0 0 0 0 0 1 0 0 0 0 0 0 0 0 0 0 0 0 0 0 0 0 0 0 0 0 0 0 0 0 0 0 0 0 0 0 0 0 0 0 0 0 0 0 0 0 0 0 0 0 0 0 0 0 0 0 0 0 0 0 0 0 0 0 0 0 0 0 0 0 0 0 0 0 0 0 0 0 0 0 0 0 0 0 0 0 0 0 0 0 0 0 0 0 0 0 0 0 0 0 0 0 0 0 0 0 0 0 0 0 0 0 0 0 0 0 0 0 0 0 0 0 0 0 0 0 0 0 0 0 0 0 0 0 0 0 0 0 0 0 0 0 1 0 0 0 0 0 0 0 0 0 0 0 0 0 0 0 0 0 0 0 0 0 0 0 0 0 0 0 0 0 0 0 0 0 0 0 0 0 0 0 0 0 0 0 0 0 0 0 0 0 0 0 0 0 0 0 0 0 0 0 0 0 0 0 0 0 0 0 0 0 0 0 0 0 0 0 0 0 0 0 0 0 0 0 0 0 0 0 0 0 0 0 0 0 0 0 0 0 0 0 0 0 0 0 0 0 0 0 0 0 0 0 0 0 1 0 0 0 0 0 0 0 0 0 0 0 0 0 0 0 0 0 0 0 0 0 0 0 0 0 0 0 0 0 0 0 0 0 0 0 0 0 0 0 0 0 0 0 0 0 0 0 0 0 0 0 0 0 0 0 0 0 0 0 0 0 0 0 0 0 0 0 0 0 0 0 0 0 0 0 0 0 0 0 0 0 0 0 0 0 0 0 0 0 0 0 0 0 0 0 0 0 0 0 0 0 0 0 0 0 0 0 0 0 0 0 0 0 0 1 0 0 0 0 0 0 0 0 0 0 0 0 0 0 0 0 0 0 0 0 0 0 0 0 0 0 0 0 0 0 0 0 0 0 0 0 0 0 0 0 0 0 0 0 0 0 0 0 0 0 0 0 0 0 0 0 0 0 0 0 0 0 0 0 0 0 0 0 0 0 0 0 0 0 0 0 0 0 0 0 0 0 0 0 0 0 0 0 0 0 0 0 0 0 0 0 0 0 0 0 0 0 0 0 0 0 0 0 0 0 0 0 0 0 0 0 0 0 0 0 0 0 0 0 0 0 0 1 0 0 0 0 0 0 0 0 0 0 0 0 0 0 0 0 0 0 0 0 0 0 0 0 0 0 0 0 0 0 0 0 0 0 0 0 0 0 0 0 0 0 0 0 0 0 0 0 0 0 0 0 0 0 0 0 0 0 0 0 0 0 0 0 0 0 0 0 0 0 0 0 0 0 0 0 0 0 0 0 0 0 0 0 0 0 0 0 0 0 0 0 0 0 0 0 0 0 1 0 0 0 0 0 0 0 0 0 0 0 0 0 0 0 0 0 0 0 0 0 0 0 0 0 0 0 0 0 0 0 0 0 0 0 0 0 0 0 0 0 0 0 0 0 0 0 0 0 0 0 0 0 0 0 0 0 0 0 0 0 0 0 0 0 0 0 0 0 0 0 0 0 0 0 0 0 0 0 0 0 0 0 0 0 0 0 0 0 0 0 0 0 0 0 0 0 0 0 0 0 0 0 0 0 0 0 0 0 0 0 0 0 0 0 0 0 0 0 0 0 0 0 0 0 0 0 0 0 0 0 0 0 0 0 0 0 0 0 0 0 0 0 0 0 0 0 0 0 0 0 0 0 0 0 0 0 0 0 0 0 0 1 0 0 0 0 0 0 0 0 0 0 0 0 0 0 0 0 0 0 0 0 0 0 0 0 0 0 0 0 0 0 0 0 0 0 0 0 0 0 0 0 0 0 0 0 0 0 0 0 0 0 0 0 0 0 0 0 0 0 0 0 0 0 0 0 0 0 0 0 0 0 0 0 0 0 0 0 0 0 0 0 0 0 0 0 0 0 0 0 0 0 0 0 0 0 0 0 0 0 0 0 0 0 0 0 0 0 0 0 0 0 0 0 0 0 0 0 0 0 0 0 0 0 0 0 0 0 0 0 0 0 0 0 0 0 0 0 0 0 0 0 0 0 0 0 0 0 0 0 0 0 0 0 0 0 0 1 0 0 0 0 0 0 0 0 0 0 0 0 0 0 0 0 0 0 0 0 0 0 0 0 0 0 0 0 0 0 0 0 0 0 0 0 0 0 0 0 0 0 0 0 0 0 0 0 0 0 0 0 0 0 0 0 0 0 0 0 0 0 0 0 0 0 0 0 0 0 0 0 0 0 0 0 0 0 0 0 0 0 0 0 0 0 0 0 0 0 0 0 0 0 0 0 0 0 0 0 0 0 0 0 0 0 0 0 0 0 0 0 0 0 0 0 0 0 0 0 0 0 0 0 0 0 0 1 0 0 0 0 0 0 0 0 0 0 0 0 0 0 0 0 0 0 0 0 0 0 0 0 0 0 0 0 0 0 0 0 0 0 0 0 0 0 0 0 0 0 0 0 0 0 0 0 0 0 0 0 0 0 0 0 0 0 0 0 0 0 0 0 0 0 0 0 0 0 0 0 0 0 0 0 0 0 0 0 0 0 0 0 0 0 0 0 0 0 0 0 0 0 0 0 0 0 0 0 0 0 0 0 0 0 0 0 0 0 0 0 0 0 0 0 0 0 0 0 0 0 0 0 0 0 0 0 0 0 0 0 0 0 0 0 0 0 0 0 0 0 0 0 0 0 0 0 0 0 0 0 0 0 0 0 0 0 0 0 0 0 0 0 0 0 0 0 0 0 0 0 0 0 0 0 0 0 0 0 0 0 0 0 0 1 0 0 0 0 0 0 0 0 0 0 0 0 0 0 0 0 0 0 0 0 0 0 0 0 0 0 0 0 0 0 0 0 0 0 0 0 0 0 0 0 0 0 0 0 0 0 0 0 0 0 0 0 0 0 0 0 0 0 0 0 0 0 0 0 0 0 0 0 0 0 0 0 0 0 0 0 0 0 0 0 0 0 0 0 0 0 0 0 0 0 0 0 0 0 0 0 0 0 0 0 0 0 0 0 0 0 0 0 0 0 0 0 0 0 0 0 0 0 0 0 0 0 0 0 0 0 0 0 0 0 0 0 0 0 0 0 0 0 0 0 0 0 0 0 0 0 0 0 0 0 0 0 0 0 0 0 0 0 0 0 0 0 1 0 0 0 0 0 0 0 0 0 0 0 0 0 0 0 0 0 0 0 0 0 0 0 0 0 0 0 0 0 0 0 0 0 0 0 0 0 0 0 0 0 0 0 0 0 0 0 0 0 0 0 0 0 0 0 0 0 0 0 0 0 0 0 0 0 0 0 0 0 0 0 0 0 0 0 0 0 0 0 0 0 0 0 0 0 0 0 0 0 0 0 0 0 0 0 0 0 0 0 0 0 0 0 0 0 0 0 0 0 0 0 0 0 0 0 0 0 0 0 0 0 0 0 0 0 0 0 1 0 0 0 0 0 0 0 0 0 0 0 0 0 0 0 0 0 0 0 0 0 0 0 0 0 0 0 0 0 0 0 0 0 0 0 0 0 0 0 0 0 0 0 0 0 0 0 0 0 0 0 0 0 0 0 0 0 0 0 0 0 0 0 0 0 0 0 0 0 0 0 0 0 0 0 0 0 0 0 0 0 0 0 0 0 0 0 0 0 0 0 0 0 0 0 0 0 0 0 0 0 0 0 0 0 0 0 0 0 0 0 0 0 0 0 0 0 0 0 0 0 0 0 0 0 0 0 0 0 0 0 0 0 0 0 0 0 0 0 0 0 0 0 0 0 0 0 0 0 0 0 0 0 0 0 1 0 0 0 0 0 0 0 0 0 0 0 0 0 0 0 0 0 0 0 0 0 0 0 0 0 0 0 0 0 0 0 0 0 0 0 0 0 0 0 0 0 0 0 0 0 0 0 0 0 0 0 0 0 0 0 0 0 0 0 0 0 0 0 0 0 0 0 0 0 0 0 0 0 0 0 0 0 0 0 0 0 0 0 0 0 0 0 0 0 0 0 0 0 0 0 0 0 0 0 0 0 0 0 0 0 0 0 0 0 0 0 0 0 0 0 0 0 0 0 0 0 0 0 0 0 0 0 1 0 0 0 0 0 0 0 0 0 0 0 0 0 0 0 0 0 0 0 0 0 0 0 0 0 0 0 0 0 0 0 0 0 0 0 0 0 0 0 0 0 0 0 0 0 0 0 0 0 0 0 0 0 0 0 0 0 0 0 0 0 0 0 0 0 0 0 0 0 0 0 0 0 0 0 0 0 0 0 0 0 0 0 0 0 0 0 0 0 0 0 0 0 0 0 0 0 0 0 0 0 0 0 0 0 0 0 0 0 0 0 0 0 0 0 0 0 0 0 0 0 0 0 0 0 0 0 1 0 0 0 0 0 0 0 0 0 0 0 0 0 0 0 0 0 0 0 0 0 0 0 0 0 0 0 0 0 0 0 0 0 0 0 0 0 0 0 0 0 0 0 0 0 0 0 0 0 0 0 0 0 0 0 0 0 0 0 0 0 0 0 0 0 0 0 0 0 0 0 0 0 0 0 0 0 0 0 0 0 0 0 0 0 0 0 0 0 0 0 0 0 0 0 0 0 0 1 0 0 0 0 0 0 0 0 0 0 0 0 0 0 0 0 0 0 0 0 0 0 0 0 0 0 0 0 0 0 0 0 0 0 0 0 0 0 0 0 0 0 0 0 0 0 0 0 0 0 0 0 0 0 0 0 0 0 0 0 0 0 0 0 0 0 0 0 0 0 0 0 0 0 0 0 0 0 0 0 0 0 0 0 0 0 0 0 0 0 0 0 0 0 0 0 0 0 0 0 0 0 0 0 0 0 0 0 0 0 0 0 0 0 0 0 0 0 0 0 0 0 0 0 0 0 0 0 0 0 0 0 0 0 0 0 0 0 0 0 0 0 0 0 0 0 0 0 0 0 0 0 0 0 0 1 0 0 0 0 0 0 0 0 0 0 0 0 0 0 0 0 0 0 0 0 0 0 0 0 0 0 0 0 0 0 0 0 0 0 0 0 0 0 0 0 0 0 0 0 0 0 0 0 0 0 0 0 0 0 0 0 1 0 0 0 0 0 0 0 0 0 0 0 0 0 0 0 0 0 0 0 0 0 0 0 0 0 0 0 0 0 0 0 0 0 0 0 0 0 0 0 0 0 0 0 0 0 0 0 0 0 0 0 0 0 0 0 0 0 0 0 0 0 0 0 0 0 0 0 0 0 0 0 0 0 0 0 0 0 0 0 0 0 0 0 0 0 0 1 0 0 0 0 0 0 0 0 0 0 0 0 0 0 0 0 0 0 0 0 0 0 0 0 0 0 0 0 0 0 0 0 0 0 0 0 0 0 0 0 0 0 0 0 0 0 0 0 0 0 0 0 0 0 0 0 0 0 0 0 0 0 0 0 0 0 0 0 0 0 0 0 0 0 0 0 0 0 0 0 0 0 0 0 0 0 0 0 0 0 0 0 0 0 0 0 0 0 0 0 0 0 0 0 0 0 0 0 0 0 0 0 0 0 0 0 0 0 0 0 0 0 0 0 0 0 0 0 0 0 0 0 0 0 0 0 0 0 0 0 0 0 0 0 0 0 0 0 0 0 0 0 0 0 0 0 0 0 0 0 0 0 0 0 0 0 0 0 0 0 0 0 0 0 0 0 0 0 0 0 0 0 0 0 0 1\"\n",
        "output_peptide = peptide_from_vector(input_vector)\n",
        "print(output_peptide)  # Expected output: XZZXX"
      ],
      "metadata": {
        "colab": {
          "base_uri": "https://localhost:8080/"
        },
        "id": "zRKCn9vJrZIM",
        "outputId": "275812a7-d43c-46ff-c0f1-cc40e5ae333f"
      },
      "execution_count": 18,
      "outputs": [
        {
          "output_type": "stream",
          "name": "stdout",
          "text": [
            "NEWEWQTRTSCYEHNDQVYRQWYQRQQVRGSW\n"
          ]
        }
      ]
    }
  ]
}